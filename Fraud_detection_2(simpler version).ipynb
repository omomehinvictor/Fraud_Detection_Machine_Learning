{
 "cells": [
  {
   "cell_type": "markdown",
   "metadata": {},
   "source": [
    "![title](fraud_detection1.PNG)"
   ]
  },
  {
   "cell_type": "markdown",
   "metadata": {},
   "source": [
    "# How to Build fraud detection model with machine learning algorithms"
   ]
  },
  {
   "cell_type": "code",
   "execution_count": 1,
   "metadata": {},
   "outputs": [],
   "source": [
    "import pandas as pd\n",
    "import numpy as np\n",
    "import re\n",
    "import matplotlib.pyplot as plt\n",
    "import seaborn as sn\n",
    "\n",
    "import warnings\n",
    "warnings.filterwarnings('ignore')"
   ]
  },
  {
   "cell_type": "markdown",
   "metadata": {},
   "source": [
    "# Part I"
   ]
  },
  {
   "cell_type": "markdown",
   "metadata": {},
   "source": [
    "## Read in the Compliant data"
   ]
  },
  {
   "cell_type": "code",
   "execution_count": 2,
   "metadata": {},
   "outputs": [
    {
     "data": {
      "text/html": [
       "<div>\n",
       "<style scoped>\n",
       "    .dataframe tbody tr th:only-of-type {\n",
       "        vertical-align: middle;\n",
       "    }\n",
       "\n",
       "    .dataframe tbody tr th {\n",
       "        vertical-align: top;\n",
       "    }\n",
       "\n",
       "    .dataframe thead th {\n",
       "        text-align: right;\n",
       "    }\n",
       "</style>\n",
       "<table border=\"1\" class=\"dataframe\">\n",
       "  <thead>\n",
       "    <tr style=\"text-align: right;\">\n",
       "      <th></th>\n",
       "      <th>ENTRYNO</th>\n",
       "      <th>STATION</th>\n",
       "      <th>REGISTRATIONDATE</th>\n",
       "      <th>DATEPASSED</th>\n",
       "      <th>RELEASEDATE</th>\n",
       "      <th>ITEMNO</th>\n",
       "      <th>CPC</th>\n",
       "      <th>FRONTIER</th>\n",
       "      <th>HSCODE</th>\n",
       "      <th>DESCRIPTION</th>\n",
       "      <th>...</th>\n",
       "      <th>ENTRYSTATUS</th>\n",
       "      <th>PASSINGOFFICER</th>\n",
       "      <th>VERIFYINGOFFICER</th>\n",
       "      <th>GROSSWEIGHT</th>\n",
       "      <th>NETWEIGHT</th>\n",
       "      <th>QUANTITY</th>\n",
       "      <th>CUSTOMSVALUE</th>\n",
       "      <th>F147NO</th>\n",
       "      <th>F147AMOUNT</th>\n",
       "      <th>F147AMOUNTPAID</th>\n",
       "    </tr>\n",
       "  </thead>\n",
       "  <tbody>\n",
       "    <tr>\n",
       "      <th>0</th>\n",
       "      <td>2017MSA6575135</td>\n",
       "      <td>MSA</td>\n",
       "      <td>01/08/2017 11:13</td>\n",
       "      <td>02/08/2017 22:02</td>\n",
       "      <td>04/08/2017 16:44</td>\n",
       "      <td>1</td>\n",
       "      <td>C400</td>\n",
       "      <td>MSA</td>\n",
       "      <td>8001100000</td>\n",
       "      <td>REFINED TIN METAL INGOTS</td>\n",
       "      <td>...</td>\n",
       "      <td>V</td>\n",
       "      <td>5874</td>\n",
       "      <td>607</td>\n",
       "      <td>4500</td>\n",
       "      <td>4500</td>\n",
       "      <td>4500</td>\n",
       "      <td>1.255350e+07</td>\n",
       "      <td>NaN</td>\n",
       "      <td>NaN</td>\n",
       "      <td>NaN</td>\n",
       "    </tr>\n",
       "    <tr>\n",
       "      <th>1</th>\n",
       "      <td>2017MSA6575135</td>\n",
       "      <td>MSA</td>\n",
       "      <td>01/08/2017 11:13</td>\n",
       "      <td>02/08/2017 22:02</td>\n",
       "      <td>04/08/2017 16:44</td>\n",
       "      <td>2</td>\n",
       "      <td>C400</td>\n",
       "      <td>MSA</td>\n",
       "      <td>2510100000</td>\n",
       "      <td>CALCIUM ALLUMINIUM</td>\n",
       "      <td>...</td>\n",
       "      <td>V</td>\n",
       "      <td>5874</td>\n",
       "      <td>607</td>\n",
       "      <td>342</td>\n",
       "      <td>300</td>\n",
       "      <td>300</td>\n",
       "      <td>4.484098e+05</td>\n",
       "      <td>NaN</td>\n",
       "      <td>NaN</td>\n",
       "      <td>NaN</td>\n",
       "    </tr>\n",
       "    <tr>\n",
       "      <th>2</th>\n",
       "      <td>2017MSA6575135</td>\n",
       "      <td>MSA</td>\n",
       "      <td>01/08/2017 11:13</td>\n",
       "      <td>02/08/2017 22:02</td>\n",
       "      <td>04/08/2017 16:44</td>\n",
       "      <td>3</td>\n",
       "      <td>C400</td>\n",
       "      <td>MSA</td>\n",
       "      <td>2805120000</td>\n",
       "      <td>CALCIUM METAL</td>\n",
       "      <td>...</td>\n",
       "      <td>V</td>\n",
       "      <td>5874</td>\n",
       "      <td>607</td>\n",
       "      <td>360</td>\n",
       "      <td>300</td>\n",
       "      <td>300</td>\n",
       "      <td>2.482269e+05</td>\n",
       "      <td>NaN</td>\n",
       "      <td>NaN</td>\n",
       "      <td>NaN</td>\n",
       "    </tr>\n",
       "    <tr>\n",
       "      <th>3</th>\n",
       "      <td>2017MSA6686662</td>\n",
       "      <td>MSA</td>\n",
       "      <td>30/10/2017 09:32</td>\n",
       "      <td>31/10/2017 14:22</td>\n",
       "      <td>03/11/2017 17:22</td>\n",
       "      <td>1</td>\n",
       "      <td>C400</td>\n",
       "      <td>MSA</td>\n",
       "      <td>8507900000</td>\n",
       "      <td>PP EMPTY BATTERY CONTAINER BOXES AND ACCESSORI...</td>\n",
       "      <td>...</td>\n",
       "      <td>V</td>\n",
       "      <td>4899</td>\n",
       "      <td>5047</td>\n",
       "      <td>5991</td>\n",
       "      <td>5761</td>\n",
       "      <td>5761</td>\n",
       "      <td>2.044713e+06</td>\n",
       "      <td>NaN</td>\n",
       "      <td>NaN</td>\n",
       "      <td>NaN</td>\n",
       "    </tr>\n",
       "    <tr>\n",
       "      <th>4</th>\n",
       "      <td>2017MSA6686664</td>\n",
       "      <td>MSA</td>\n",
       "      <td>30/10/2017 09:33</td>\n",
       "      <td>31/10/2017 16:22</td>\n",
       "      <td>03/11/2017 17:22</td>\n",
       "      <td>1</td>\n",
       "      <td>C400</td>\n",
       "      <td>MSA</td>\n",
       "      <td>3919100000</td>\n",
       "      <td>TOP/BODY POWERLAST,CHLORIDE EXIDE ADHESIVE BAT...</td>\n",
       "      <td>...</td>\n",
       "      <td>V</td>\n",
       "      <td>4969</td>\n",
       "      <td>5047</td>\n",
       "      <td>166</td>\n",
       "      <td>160</td>\n",
       "      <td>160</td>\n",
       "      <td>2.812577e+06</td>\n",
       "      <td>NaN</td>\n",
       "      <td>NaN</td>\n",
       "      <td>NaN</td>\n",
       "    </tr>\n",
       "  </tbody>\n",
       "</table>\n",
       "<p>5 rows × 30 columns</p>\n",
       "</div>"
      ],
      "text/plain": [
       "          ENTRYNO STATION  REGISTRATIONDATE        DATEPASSED  \\\n",
       "0  2017MSA6575135     MSA  01/08/2017 11:13  02/08/2017 22:02   \n",
       "1  2017MSA6575135     MSA  01/08/2017 11:13  02/08/2017 22:02   \n",
       "2  2017MSA6575135     MSA  01/08/2017 11:13  02/08/2017 22:02   \n",
       "3  2017MSA6686662     MSA  30/10/2017 09:32  31/10/2017 14:22   \n",
       "4  2017MSA6686664     MSA  30/10/2017 09:33  31/10/2017 16:22   \n",
       "\n",
       "        RELEASEDATE  ITEMNO   CPC FRONTIER      HSCODE  \\\n",
       "0  04/08/2017 16:44       1  C400      MSA  8001100000   \n",
       "1  04/08/2017 16:44       2  C400      MSA  2510100000   \n",
       "2  04/08/2017 16:44       3  C400      MSA  2805120000   \n",
       "3  03/11/2017 17:22       1  C400      MSA  8507900000   \n",
       "4  03/11/2017 17:22       1  C400      MSA  3919100000   \n",
       "\n",
       "                                         DESCRIPTION  ... ENTRYSTATUS  \\\n",
       "0                           REFINED TIN METAL INGOTS  ...           V   \n",
       "1                                 CALCIUM ALLUMINIUM  ...           V   \n",
       "2                                      CALCIUM METAL  ...           V   \n",
       "3  PP EMPTY BATTERY CONTAINER BOXES AND ACCESSORI...  ...           V   \n",
       "4  TOP/BODY POWERLAST,CHLORIDE EXIDE ADHESIVE BAT...  ...           V   \n",
       "\n",
       "  PASSINGOFFICER VERIFYINGOFFICER GROSSWEIGHT NETWEIGHT QUANTITY  \\\n",
       "0           5874              607        4500      4500     4500   \n",
       "1           5874              607         342       300      300   \n",
       "2           5874              607         360       300      300   \n",
       "3           4899             5047        5991      5761     5761   \n",
       "4           4969             5047         166       160      160   \n",
       "\n",
       "   CUSTOMSVALUE  F147NO F147AMOUNT F147AMOUNTPAID  \n",
       "0  1.255350e+07     NaN        NaN            NaN  \n",
       "1  4.484098e+05     NaN        NaN            NaN  \n",
       "2  2.482269e+05     NaN        NaN            NaN  \n",
       "3  2.044713e+06     NaN        NaN            NaN  \n",
       "4  2.812577e+06     NaN        NaN            NaN  \n",
       "\n",
       "[5 rows x 30 columns]"
      ]
     },
     "execution_count": 2,
     "metadata": {},
     "output_type": "execute_result"
    }
   ],
   "source": [
    "complianceSea = pd.read_csv('CompliantSea.csv',sep = ';',encoding='latin',decimal= ',')\n",
    "complianceSea.head()"
   ]
  },
  {
   "cell_type": "code",
   "execution_count": 3,
   "metadata": {},
   "outputs": [
    {
     "data": {
      "text/plain": [
       "(483343, 30)"
      ]
     },
     "execution_count": 3,
     "metadata": {},
     "output_type": "execute_result"
    }
   ],
   "source": [
    "complianceSea.shape"
   ]
  },
  {
   "cell_type": "markdown",
   "metadata": {},
   "source": [
    "### Number of items by declaration"
   ]
  },
  {
   "cell_type": "code",
   "execution_count": 4,
   "metadata": {},
   "outputs": [
    {
     "data": {
      "text/html": [
       "<div>\n",
       "<style scoped>\n",
       "    .dataframe tbody tr th:only-of-type {\n",
       "        vertical-align: middle;\n",
       "    }\n",
       "\n",
       "    .dataframe tbody tr th {\n",
       "        vertical-align: top;\n",
       "    }\n",
       "\n",
       "    .dataframe thead th {\n",
       "        text-align: right;\n",
       "    }\n",
       "</style>\n",
       "<table border=\"1\" class=\"dataframe\">\n",
       "  <thead>\n",
       "    <tr style=\"text-align: right;\">\n",
       "      <th></th>\n",
       "      <th>Total_CUSTOMSVALUE</th>\n",
       "      <th>Total_GROSSWEIGHT</th>\n",
       "      <th>nb_items</th>\n",
       "      <th>Total_NETWEIGHT</th>\n",
       "      <th>Total_QUANTITY</th>\n",
       "    </tr>\n",
       "    <tr>\n",
       "      <th>ENTRYNO</th>\n",
       "      <th></th>\n",
       "      <th></th>\n",
       "      <th></th>\n",
       "      <th></th>\n",
       "      <th></th>\n",
       "    </tr>\n",
       "  </thead>\n",
       "  <tbody>\n",
       "    <tr>\n",
       "      <th>2017MSA6302186</th>\n",
       "      <td>1344572.730</td>\n",
       "      <td>26000</td>\n",
       "      <td>4</td>\n",
       "      <td>25500</td>\n",
       "      <td>2592</td>\n",
       "    </tr>\n",
       "    <tr>\n",
       "      <th>2017MSA6302191</th>\n",
       "      <td>1259081.504</td>\n",
       "      <td>8010</td>\n",
       "      <td>1</td>\n",
       "      <td>7327</td>\n",
       "      <td>8190</td>\n",
       "    </tr>\n",
       "    <tr>\n",
       "      <th>2017MSA6302193</th>\n",
       "      <td>1995675.653</td>\n",
       "      <td>5062</td>\n",
       "      <td>7</td>\n",
       "      <td>5062</td>\n",
       "      <td>5867</td>\n",
       "    </tr>\n",
       "    <tr>\n",
       "      <th>2017MSA6302195</th>\n",
       "      <td>299062.000</td>\n",
       "      <td>1010</td>\n",
       "      <td>1</td>\n",
       "      <td>1010</td>\n",
       "      <td>1</td>\n",
       "    </tr>\n",
       "    <tr>\n",
       "      <th>2017MSA6302196</th>\n",
       "      <td>883802.708</td>\n",
       "      <td>48096</td>\n",
       "      <td>1</td>\n",
       "      <td>48000</td>\n",
       "      <td>48000</td>\n",
       "    </tr>\n",
       "  </tbody>\n",
       "</table>\n",
       "</div>"
      ],
      "text/plain": [
       "                Total_CUSTOMSVALUE  Total_GROSSWEIGHT  nb_items  \\\n",
       "ENTRYNO                                                           \n",
       "2017MSA6302186         1344572.730              26000         4   \n",
       "2017MSA6302191         1259081.504               8010         1   \n",
       "2017MSA6302193         1995675.653               5062         7   \n",
       "2017MSA6302195          299062.000               1010         1   \n",
       "2017MSA6302196          883802.708              48096         1   \n",
       "\n",
       "                Total_NETWEIGHT  Total_QUANTITY  \n",
       "ENTRYNO                                          \n",
       "2017MSA6302186            25500            2592  \n",
       "2017MSA6302191             7327            8190  \n",
       "2017MSA6302193             5062            5867  \n",
       "2017MSA6302195             1010               1  \n",
       "2017MSA6302196            48000           48000  "
      ]
     },
     "execution_count": 4,
     "metadata": {},
     "output_type": "execute_result"
    }
   ],
   "source": [
    "# operations to performed on each column\n",
    "agg = {'ITEMNO':'count','GROSSWEIGHT':'sum', 'NETWEIGHT':'sum', 'QUANTITY':'sum', 'CUSTOMSVALUE':'sum'}\n",
    "\n",
    "# group by Entry_No and perform the above operations on each columns\n",
    "Nb_Item_by_Dec = pd.pivot_table(complianceSea, index ='ENTRYNO', aggfunc=agg)\n",
    "\n",
    "#rename the columns\n",
    "Nb_Item_by_Dec.columns = ['Total_CUSTOMSVALUE','Total_GROSSWEIGHT','nb_items','Total_NETWEIGHT', 'Total_QUANTITY']\n",
    "\n",
    "Nb_Item_by_Dec.head()"
   ]
  },
  {
   "cell_type": "code",
   "execution_count": 5,
   "metadata": {},
   "outputs": [
    {
     "data": {
      "text/plain": [
       "(140151, 5)"
      ]
     },
     "execution_count": 5,
     "metadata": {},
     "output_type": "execute_result"
    }
   ],
   "source": [
    "Nb_Item_by_Dec.shape"
   ]
  },
  {
   "cell_type": "code",
   "execution_count": 6,
   "metadata": {},
   "outputs": [
    {
     "data": {
      "text/html": [
       "<div>\n",
       "<style scoped>\n",
       "    .dataframe tbody tr th:only-of-type {\n",
       "        vertical-align: middle;\n",
       "    }\n",
       "\n",
       "    .dataframe tbody tr th {\n",
       "        vertical-align: top;\n",
       "    }\n",
       "\n",
       "    .dataframe thead th {\n",
       "        text-align: right;\n",
       "    }\n",
       "</style>\n",
       "<table border=\"1\" class=\"dataframe\">\n",
       "  <thead>\n",
       "    <tr style=\"text-align: right;\">\n",
       "      <th></th>\n",
       "      <th>ENTRYNO</th>\n",
       "      <th>STATION</th>\n",
       "      <th>REGISTRATIONDATE</th>\n",
       "      <th>DATEPASSED</th>\n",
       "      <th>RELEASEDATE</th>\n",
       "      <th>ITEMNO</th>\n",
       "      <th>CPC</th>\n",
       "      <th>FRONTIER</th>\n",
       "      <th>HSCODE</th>\n",
       "      <th>DESCRIPTION</th>\n",
       "      <th>...</th>\n",
       "      <th>COUNTRYOFDESTINATION</th>\n",
       "      <th>PLACEOFDISCHARGE</th>\n",
       "      <th>CHANNEL</th>\n",
       "      <th>ENTRYSTATUS</th>\n",
       "      <th>PASSINGOFFICER</th>\n",
       "      <th>VERIFYINGOFFICER</th>\n",
       "      <th>GROSSWEIGHT</th>\n",
       "      <th>NETWEIGHT</th>\n",
       "      <th>QUANTITY</th>\n",
       "      <th>CUSTOMSVALUE</th>\n",
       "    </tr>\n",
       "  </thead>\n",
       "  <tbody>\n",
       "    <tr>\n",
       "      <th>0</th>\n",
       "      <td>2017MSA6575135</td>\n",
       "      <td>MSA</td>\n",
       "      <td>01/08/2017 11:13</td>\n",
       "      <td>02/08/2017 22:02</td>\n",
       "      <td>04/08/2017 16:44</td>\n",
       "      <td>1</td>\n",
       "      <td>C400</td>\n",
       "      <td>MSA</td>\n",
       "      <td>80</td>\n",
       "      <td>REFINED TIN METAL INGOTS</td>\n",
       "      <td>...</td>\n",
       "      <td>NaN</td>\n",
       "      <td>SIG</td>\n",
       "      <td>Y</td>\n",
       "      <td>V</td>\n",
       "      <td>5874</td>\n",
       "      <td>607</td>\n",
       "      <td>4500</td>\n",
       "      <td>4500</td>\n",
       "      <td>4500</td>\n",
       "      <td>1.255350e+07</td>\n",
       "    </tr>\n",
       "    <tr>\n",
       "      <th>3</th>\n",
       "      <td>2017MSA6686662</td>\n",
       "      <td>MSA</td>\n",
       "      <td>30/10/2017 09:32</td>\n",
       "      <td>31/10/2017 14:22</td>\n",
       "      <td>03/11/2017 17:22</td>\n",
       "      <td>1</td>\n",
       "      <td>C400</td>\n",
       "      <td>MSA</td>\n",
       "      <td>85</td>\n",
       "      <td>PP EMPTY BATTERY CONTAINER BOXES AND ACCESSORI...</td>\n",
       "      <td>...</td>\n",
       "      <td>NaN</td>\n",
       "      <td>MCD</td>\n",
       "      <td>G</td>\n",
       "      <td>V</td>\n",
       "      <td>4899</td>\n",
       "      <td>5047</td>\n",
       "      <td>5991</td>\n",
       "      <td>5761</td>\n",
       "      <td>5761</td>\n",
       "      <td>2.044713e+06</td>\n",
       "    </tr>\n",
       "    <tr>\n",
       "      <th>4</th>\n",
       "      <td>2017MSA6686664</td>\n",
       "      <td>MSA</td>\n",
       "      <td>30/10/2017 09:33</td>\n",
       "      <td>31/10/2017 16:22</td>\n",
       "      <td>03/11/2017 17:22</td>\n",
       "      <td>1</td>\n",
       "      <td>C400</td>\n",
       "      <td>MSA</td>\n",
       "      <td>39</td>\n",
       "      <td>TOP/BODY POWERLAST,CHLORIDE EXIDE ADHESIVE BAT...</td>\n",
       "      <td>...</td>\n",
       "      <td>NaN</td>\n",
       "      <td>MCD</td>\n",
       "      <td>G</td>\n",
       "      <td>V</td>\n",
       "      <td>4969</td>\n",
       "      <td>5047</td>\n",
       "      <td>166</td>\n",
       "      <td>160</td>\n",
       "      <td>160</td>\n",
       "      <td>2.812577e+06</td>\n",
       "    </tr>\n",
       "  </tbody>\n",
       "</table>\n",
       "<p>3 rows × 27 columns</p>\n",
       "</div>"
      ],
      "text/plain": [
       "          ENTRYNO STATION  REGISTRATIONDATE        DATEPASSED  \\\n",
       "0  2017MSA6575135     MSA  01/08/2017 11:13  02/08/2017 22:02   \n",
       "3  2017MSA6686662     MSA  30/10/2017 09:32  31/10/2017 14:22   \n",
       "4  2017MSA6686664     MSA  30/10/2017 09:33  31/10/2017 16:22   \n",
       "\n",
       "        RELEASEDATE  ITEMNO   CPC FRONTIER HSCODE  \\\n",
       "0  04/08/2017 16:44       1  C400      MSA     80   \n",
       "3  03/11/2017 17:22       1  C400      MSA     85   \n",
       "4  03/11/2017 17:22       1  C400      MSA     39   \n",
       "\n",
       "                                         DESCRIPTION  ...  \\\n",
       "0                           REFINED TIN METAL INGOTS  ...   \n",
       "3  PP EMPTY BATTERY CONTAINER BOXES AND ACCESSORI...  ...   \n",
       "4  TOP/BODY POWERLAST,CHLORIDE EXIDE ADHESIVE BAT...  ...   \n",
       "\n",
       "  COUNTRYOFDESTINATION PLACEOFDISCHARGE CHANNEL ENTRYSTATUS PASSINGOFFICER  \\\n",
       "0                  NaN             SIG        Y           V           5874   \n",
       "3                  NaN             MCD        G           V           4899   \n",
       "4                  NaN             MCD        G           V           4969   \n",
       "\n",
       "  VERIFYINGOFFICER GROSSWEIGHT  NETWEIGHT QUANTITY  CUSTOMSVALUE  \n",
       "0              607        4500       4500     4500  1.255350e+07  \n",
       "3             5047        5991       5761     5761  2.044713e+06  \n",
       "4             5047         166        160      160  2.812577e+06  \n",
       "\n",
       "[3 rows x 27 columns]"
      ]
     },
     "execution_count": 6,
     "metadata": {},
     "output_type": "execute_result"
    }
   ],
   "source": [
    "### to remove duplicates\n",
    "complianceSea1 = complianceSea.drop_duplicates(subset=['ENTRYNO'])\n",
    "\n",
    "#extraction of the first two characters of HS\n",
    "complianceSea1['HSCODE'] = complianceSea1.HSCODE.apply(lambda x : str(x)[:2])\n",
    "\n",
    "# Detete null columns\n",
    "complianceSea1.drop(['F147NO', 'F147AMOUNT', 'F147AMOUNTPAID'], axis= 1, inplace= True)\n",
    "complianceSea1.head(3)"
   ]
  },
  {
   "cell_type": "code",
   "execution_count": 7,
   "metadata": {},
   "outputs": [
    {
     "data": {
      "text/plain": [
       "(140151, 27)"
      ]
     },
     "execution_count": 7,
     "metadata": {},
     "output_type": "execute_result"
    }
   ],
   "source": [
    "complianceSea1.shape"
   ]
  },
  {
   "cell_type": "code",
   "execution_count": 8,
   "metadata": {},
   "outputs": [
    {
     "data": {
      "text/html": [
       "<div>\n",
       "<style scoped>\n",
       "    .dataframe tbody tr th:only-of-type {\n",
       "        vertical-align: middle;\n",
       "    }\n",
       "\n",
       "    .dataframe tbody tr th {\n",
       "        vertical-align: top;\n",
       "    }\n",
       "\n",
       "    .dataframe thead th {\n",
       "        text-align: right;\n",
       "    }\n",
       "</style>\n",
       "<table border=\"1\" class=\"dataframe\">\n",
       "  <thead>\n",
       "    <tr style=\"text-align: right;\">\n",
       "      <th></th>\n",
       "      <th>ENTRYNO</th>\n",
       "      <th>Total_CUSTOMSVALUE</th>\n",
       "      <th>Total_GROSSWEIGHT</th>\n",
       "      <th>nb_items</th>\n",
       "      <th>Total_NETWEIGHT</th>\n",
       "      <th>Total_QUANTITY</th>\n",
       "      <th>STATION</th>\n",
       "      <th>REGISTRATIONDATE</th>\n",
       "      <th>DATEPASSED</th>\n",
       "      <th>RELEASEDATE</th>\n",
       "      <th>...</th>\n",
       "      <th>COUNTRYOFDESTINATION</th>\n",
       "      <th>PLACEOFDISCHARGE</th>\n",
       "      <th>CHANNEL</th>\n",
       "      <th>ENTRYSTATUS</th>\n",
       "      <th>PASSINGOFFICER</th>\n",
       "      <th>VERIFYINGOFFICER</th>\n",
       "      <th>GROSSWEIGHT</th>\n",
       "      <th>NETWEIGHT</th>\n",
       "      <th>QUANTITY</th>\n",
       "      <th>CUSTOMSVALUE</th>\n",
       "    </tr>\n",
       "  </thead>\n",
       "  <tbody>\n",
       "    <tr>\n",
       "      <th>0</th>\n",
       "      <td>2017MSA6302186</td>\n",
       "      <td>1344572.730</td>\n",
       "      <td>26000</td>\n",
       "      <td>4</td>\n",
       "      <td>25500</td>\n",
       "      <td>2592</td>\n",
       "      <td>MSA</td>\n",
       "      <td>01/01/2017 09:15</td>\n",
       "      <td>03/01/2017 18:23</td>\n",
       "      <td>04/01/2017 04:48</td>\n",
       "      <td>...</td>\n",
       "      <td>NaN</td>\n",
       "      <td>BFT</td>\n",
       "      <td>R</td>\n",
       "      <td>V</td>\n",
       "      <td>1151</td>\n",
       "      <td>4812</td>\n",
       "      <td>10833</td>\n",
       "      <td>10625</td>\n",
       "      <td>1112</td>\n",
       "      <td>554475.239</td>\n",
       "    </tr>\n",
       "    <tr>\n",
       "      <th>1</th>\n",
       "      <td>2017MSA6302191</td>\n",
       "      <td>1259081.504</td>\n",
       "      <td>8010</td>\n",
       "      <td>1</td>\n",
       "      <td>7327</td>\n",
       "      <td>8190</td>\n",
       "      <td>MSA</td>\n",
       "      <td>02/01/2017 11:45</td>\n",
       "      <td>11/01/2017 17:41</td>\n",
       "      <td>16/01/2017 02:35</td>\n",
       "      <td>...</td>\n",
       "      <td>NaN</td>\n",
       "      <td>MCT</td>\n",
       "      <td>G</td>\n",
       "      <td>V</td>\n",
       "      <td>4568</td>\n",
       "      <td>5646</td>\n",
       "      <td>8010</td>\n",
       "      <td>7327</td>\n",
       "      <td>8190</td>\n",
       "      <td>1259081.504</td>\n",
       "    </tr>\n",
       "    <tr>\n",
       "      <th>2</th>\n",
       "      <td>2017MSA6302193</td>\n",
       "      <td>1995675.653</td>\n",
       "      <td>5062</td>\n",
       "      <td>7</td>\n",
       "      <td>5062</td>\n",
       "      <td>5867</td>\n",
       "      <td>MSA</td>\n",
       "      <td>02/01/2017 12:31</td>\n",
       "      <td>04/01/2017 12:11</td>\n",
       "      <td>06/01/2017 16:00</td>\n",
       "      <td>...</td>\n",
       "      <td>NaN</td>\n",
       "      <td>FOC</td>\n",
       "      <td>G</td>\n",
       "      <td>V</td>\n",
       "      <td>5861</td>\n",
       "      <td>6027</td>\n",
       "      <td>71</td>\n",
       "      <td>71</td>\n",
       "      <td>71</td>\n",
       "      <td>79287.913</td>\n",
       "    </tr>\n",
       "  </tbody>\n",
       "</table>\n",
       "<p>3 rows × 32 columns</p>\n",
       "</div>"
      ],
      "text/plain": [
       "          ENTRYNO  Total_CUSTOMSVALUE  Total_GROSSWEIGHT  nb_items  \\\n",
       "0  2017MSA6302186         1344572.730              26000         4   \n",
       "1  2017MSA6302191         1259081.504               8010         1   \n",
       "2  2017MSA6302193         1995675.653               5062         7   \n",
       "\n",
       "   Total_NETWEIGHT  Total_QUANTITY STATION  REGISTRATIONDATE  \\\n",
       "0            25500            2592     MSA  01/01/2017 09:15   \n",
       "1             7327            8190     MSA  02/01/2017 11:45   \n",
       "2             5062            5867     MSA  02/01/2017 12:31   \n",
       "\n",
       "         DATEPASSED       RELEASEDATE  ...  COUNTRYOFDESTINATION  \\\n",
       "0  03/01/2017 18:23  04/01/2017 04:48  ...                   NaN   \n",
       "1  11/01/2017 17:41  16/01/2017 02:35  ...                   NaN   \n",
       "2  04/01/2017 12:11  06/01/2017 16:00  ...                   NaN   \n",
       "\n",
       "  PLACEOFDISCHARGE CHANNEL ENTRYSTATUS PASSINGOFFICER VERIFYINGOFFICER  \\\n",
       "0             BFT        R           V           1151             4812   \n",
       "1             MCT        G           V           4568             5646   \n",
       "2             FOC        G           V           5861             6027   \n",
       "\n",
       "  GROSSWEIGHT NETWEIGHT QUANTITY CUSTOMSVALUE  \n",
       "0       10833     10625     1112   554475.239  \n",
       "1        8010      7327     8190  1259081.504  \n",
       "2          71        71       71    79287.913  \n",
       "\n",
       "[3 rows x 32 columns]"
      ]
     },
     "execution_count": 8,
     "metadata": {},
     "output_type": "execute_result"
    }
   ],
   "source": [
    "# Merge tables\n",
    "complianceSea2 = pd.merge(Nb_Item_by_Dec, complianceSea1, on = 'ENTRYNO')\n",
    "complianceSea2.head(3)"
   ]
  },
  {
   "cell_type": "code",
   "execution_count": 9,
   "metadata": {},
   "outputs": [
    {
     "data": {
      "text/plain": [
       "(140151, 32)"
      ]
     },
     "execution_count": 9,
     "metadata": {},
     "output_type": "execute_result"
    }
   ],
   "source": [
    "complianceSea2.shape"
   ]
  },
  {
   "cell_type": "code",
   "execution_count": 10,
   "metadata": {},
   "outputs": [
    {
     "data": {
      "text/html": [
       "<div>\n",
       "<style scoped>\n",
       "    .dataframe tbody tr th:only-of-type {\n",
       "        vertical-align: middle;\n",
       "    }\n",
       "\n",
       "    .dataframe tbody tr th {\n",
       "        vertical-align: top;\n",
       "    }\n",
       "\n",
       "    .dataframe thead th {\n",
       "        text-align: right;\n",
       "    }\n",
       "</style>\n",
       "<table border=\"1\" class=\"dataframe\">\n",
       "  <thead>\n",
       "    <tr style=\"text-align: right;\">\n",
       "      <th></th>\n",
       "      <th>ENTRYNO</th>\n",
       "      <th>REGISTRATIONDATE</th>\n",
       "      <th>DATEPASSED</th>\n",
       "      <th>HSCODE</th>\n",
       "      <th>nb_items</th>\n",
       "      <th>Total_GROSSWEIGHT</th>\n",
       "      <th>Total_NETWEIGHT</th>\n",
       "      <th>Total_QUANTITY</th>\n",
       "      <th>Total_CUSTOMSVALUE</th>\n",
       "    </tr>\n",
       "  </thead>\n",
       "  <tbody>\n",
       "    <tr>\n",
       "      <th>0</th>\n",
       "      <td>2017MSA6302186</td>\n",
       "      <td>01/01/2017 09:15</td>\n",
       "      <td>03/01/2017 18:23</td>\n",
       "      <td>70</td>\n",
       "      <td>4</td>\n",
       "      <td>26000</td>\n",
       "      <td>25500</td>\n",
       "      <td>2592</td>\n",
       "      <td>1344572.730</td>\n",
       "    </tr>\n",
       "    <tr>\n",
       "      <th>1</th>\n",
       "      <td>2017MSA6302191</td>\n",
       "      <td>02/01/2017 11:45</td>\n",
       "      <td>11/01/2017 17:41</td>\n",
       "      <td>27</td>\n",
       "      <td>1</td>\n",
       "      <td>8010</td>\n",
       "      <td>7327</td>\n",
       "      <td>8190</td>\n",
       "      <td>1259081.504</td>\n",
       "    </tr>\n",
       "    <tr>\n",
       "      <th>2</th>\n",
       "      <td>2017MSA6302193</td>\n",
       "      <td>02/01/2017 12:31</td>\n",
       "      <td>04/01/2017 12:11</td>\n",
       "      <td>73</td>\n",
       "      <td>7</td>\n",
       "      <td>5062</td>\n",
       "      <td>5062</td>\n",
       "      <td>5867</td>\n",
       "      <td>1995675.653</td>\n",
       "    </tr>\n",
       "    <tr>\n",
       "      <th>3</th>\n",
       "      <td>2017MSA6302195</td>\n",
       "      <td>02/01/2017 12:42</td>\n",
       "      <td>03/01/2017 12:34</td>\n",
       "      <td>87</td>\n",
       "      <td>1</td>\n",
       "      <td>1010</td>\n",
       "      <td>1010</td>\n",
       "      <td>1</td>\n",
       "      <td>299062.000</td>\n",
       "    </tr>\n",
       "    <tr>\n",
       "      <th>4</th>\n",
       "      <td>2017MSA6302196</td>\n",
       "      <td>02/01/2017 13:00</td>\n",
       "      <td>05/01/2017 22:14</td>\n",
       "      <td>31</td>\n",
       "      <td>1</td>\n",
       "      <td>48096</td>\n",
       "      <td>48000</td>\n",
       "      <td>48000</td>\n",
       "      <td>883802.708</td>\n",
       "    </tr>\n",
       "  </tbody>\n",
       "</table>\n",
       "</div>"
      ],
      "text/plain": [
       "          ENTRYNO  REGISTRATIONDATE        DATEPASSED HSCODE  nb_items  \\\n",
       "0  2017MSA6302186  01/01/2017 09:15  03/01/2017 18:23     70         4   \n",
       "1  2017MSA6302191  02/01/2017 11:45  11/01/2017 17:41     27         1   \n",
       "2  2017MSA6302193  02/01/2017 12:31  04/01/2017 12:11     73         7   \n",
       "3  2017MSA6302195  02/01/2017 12:42  03/01/2017 12:34     87         1   \n",
       "4  2017MSA6302196  02/01/2017 13:00  05/01/2017 22:14     31         1   \n",
       "\n",
       "   Total_GROSSWEIGHT  Total_NETWEIGHT  Total_QUANTITY  Total_CUSTOMSVALUE  \n",
       "0              26000            25500            2592         1344572.730  \n",
       "1               8010             7327            8190         1259081.504  \n",
       "2               5062             5062            5867         1995675.653  \n",
       "3               1010             1010               1          299062.000  \n",
       "4              48096            48000           48000          883802.708  "
      ]
     },
     "execution_count": 10,
     "metadata": {},
     "output_type": "execute_result"
    }
   ],
   "source": [
    "# retrieve columns that interest us in our model\n",
    "colns = ['ENTRYNO','REGISTRATIONDATE','DATEPASSED','HSCODE', 'nb_items',\n",
    "        'Total_GROSSWEIGHT', 'Total_NETWEIGHT','Total_QUANTITY', 'Total_CUSTOMSVALUE']\n",
    "CompliantSea3 = complianceSea2[colns]\n",
    "CompliantSea3.head()"
   ]
  },
  {
   "cell_type": "code",
   "execution_count": 11,
   "metadata": {},
   "outputs": [
    {
     "data": {
      "text/html": [
       "<div>\n",
       "<style scoped>\n",
       "    .dataframe tbody tr th:only-of-type {\n",
       "        vertical-align: middle;\n",
       "    }\n",
       "\n",
       "    .dataframe tbody tr th {\n",
       "        vertical-align: top;\n",
       "    }\n",
       "\n",
       "    .dataframe thead th {\n",
       "        text-align: right;\n",
       "    }\n",
       "</style>\n",
       "<table border=\"1\" class=\"dataframe\">\n",
       "  <thead>\n",
       "    <tr style=\"text-align: right;\">\n",
       "      <th></th>\n",
       "      <th>ENTRYNO</th>\n",
       "      <th>REGISTRATIONDATE</th>\n",
       "      <th>DATEPASSED</th>\n",
       "      <th>HSCODE</th>\n",
       "      <th>nb_items</th>\n",
       "      <th>Total_GROSSWEIGHT</th>\n",
       "      <th>Total_NETWEIGHT</th>\n",
       "      <th>Total_QUANTITY</th>\n",
       "      <th>Total_CUSTOMSVALUE</th>\n",
       "      <th>DurationRegToPas</th>\n",
       "      <th>MonthRegistration</th>\n",
       "      <th>DayRegistration</th>\n",
       "      <th>Target</th>\n",
       "    </tr>\n",
       "  </thead>\n",
       "  <tbody>\n",
       "    <tr>\n",
       "      <th>0</th>\n",
       "      <td>2017MSA6302186</td>\n",
       "      <td>2017-01-01 09:15:00</td>\n",
       "      <td>2017-01-03 18:23:00</td>\n",
       "      <td>70</td>\n",
       "      <td>4</td>\n",
       "      <td>26000</td>\n",
       "      <td>25500</td>\n",
       "      <td>2592</td>\n",
       "      <td>1344572.730</td>\n",
       "      <td>2</td>\n",
       "      <td>1</td>\n",
       "      <td>7</td>\n",
       "      <td>1</td>\n",
       "    </tr>\n",
       "    <tr>\n",
       "      <th>1</th>\n",
       "      <td>2017MSA6302191</td>\n",
       "      <td>2017-01-02 11:45:00</td>\n",
       "      <td>2017-01-11 17:41:00</td>\n",
       "      <td>27</td>\n",
       "      <td>1</td>\n",
       "      <td>8010</td>\n",
       "      <td>7327</td>\n",
       "      <td>8190</td>\n",
       "      <td>1259081.504</td>\n",
       "      <td>9</td>\n",
       "      <td>1</td>\n",
       "      <td>1</td>\n",
       "      <td>1</td>\n",
       "    </tr>\n",
       "    <tr>\n",
       "      <th>2</th>\n",
       "      <td>2017MSA6302193</td>\n",
       "      <td>2017-01-02 12:31:00</td>\n",
       "      <td>2017-01-04 12:11:00</td>\n",
       "      <td>73</td>\n",
       "      <td>7</td>\n",
       "      <td>5062</td>\n",
       "      <td>5062</td>\n",
       "      <td>5867</td>\n",
       "      <td>1995675.653</td>\n",
       "      <td>2</td>\n",
       "      <td>1</td>\n",
       "      <td>1</td>\n",
       "      <td>1</td>\n",
       "    </tr>\n",
       "    <tr>\n",
       "      <th>3</th>\n",
       "      <td>2017MSA6302195</td>\n",
       "      <td>2017-01-02 12:42:00</td>\n",
       "      <td>2017-01-03 12:34:00</td>\n",
       "      <td>87</td>\n",
       "      <td>1</td>\n",
       "      <td>1010</td>\n",
       "      <td>1010</td>\n",
       "      <td>1</td>\n",
       "      <td>299062.000</td>\n",
       "      <td>1</td>\n",
       "      <td>1</td>\n",
       "      <td>1</td>\n",
       "      <td>1</td>\n",
       "    </tr>\n",
       "    <tr>\n",
       "      <th>4</th>\n",
       "      <td>2017MSA6302196</td>\n",
       "      <td>2017-01-02 13:00:00</td>\n",
       "      <td>2017-01-05 22:14:00</td>\n",
       "      <td>31</td>\n",
       "      <td>1</td>\n",
       "      <td>48096</td>\n",
       "      <td>48000</td>\n",
       "      <td>48000</td>\n",
       "      <td>883802.708</td>\n",
       "      <td>3</td>\n",
       "      <td>1</td>\n",
       "      <td>1</td>\n",
       "      <td>1</td>\n",
       "    </tr>\n",
       "  </tbody>\n",
       "</table>\n",
       "</div>"
      ],
      "text/plain": [
       "          ENTRYNO    REGISTRATIONDATE          DATEPASSED HSCODE  nb_items  \\\n",
       "0  2017MSA6302186 2017-01-01 09:15:00 2017-01-03 18:23:00     70         4   \n",
       "1  2017MSA6302191 2017-01-02 11:45:00 2017-01-11 17:41:00     27         1   \n",
       "2  2017MSA6302193 2017-01-02 12:31:00 2017-01-04 12:11:00     73         7   \n",
       "3  2017MSA6302195 2017-01-02 12:42:00 2017-01-03 12:34:00     87         1   \n",
       "4  2017MSA6302196 2017-01-02 13:00:00 2017-01-05 22:14:00     31         1   \n",
       "\n",
       "   Total_GROSSWEIGHT  Total_NETWEIGHT  Total_QUANTITY  Total_CUSTOMSVALUE  \\\n",
       "0              26000            25500            2592         1344572.730   \n",
       "1               8010             7327            8190         1259081.504   \n",
       "2               5062             5062            5867         1995675.653   \n",
       "3               1010             1010               1          299062.000   \n",
       "4              48096            48000           48000          883802.708   \n",
       "\n",
       "   DurationRegToPas  MonthRegistration  DayRegistration  Target  \n",
       "0                 2                  1                7       1  \n",
       "1                 9                  1                1       1  \n",
       "2                 2                  1                1       1  \n",
       "3                 1                  1                1       1  \n",
       "4                 3                  1                1       1  "
      ]
     },
     "execution_count": 11,
     "metadata": {},
     "output_type": "execute_result"
    }
   ],
   "source": [
    "# datetime conversion\n",
    "CompliantSea3['REGISTRATIONDATE'] = pd.to_datetime(CompliantSea3.REGISTRATIONDATE, dayfirst = True)\n",
    "CompliantSea3['DATEPASSED'] = pd.to_datetime(CompliantSea3.DATEPASSED, dayfirst = True)\n",
    "\n",
    "# day difference\n",
    "CompliantSea3['DurationRegToPas'] = CompliantSea3.DATEPASSED.dt.day - CompliantSea3.REGISTRATIONDATE.dt.day\n",
    "\n",
    "# month in Registration\n",
    "CompliantSea3['MonthRegistration'] = CompliantSea3.REGISTRATIONDATE.dt.month\n",
    "\n",
    "# week days for registration\n",
    "CompliantSea3['DayRegistration'] = CompliantSea3.REGISTRATIONDATE.dt.weekday+1\n",
    "\n",
    "# add new variable \n",
    "CompliantSea3['Target'] = 1\n",
    "\n",
    "# view top 5\n",
    "CompliantSea3.head()"
   ]
  },
  {
   "cell_type": "code",
   "execution_count": 12,
   "metadata": {},
   "outputs": [
    {
     "data": {
      "text/plain": [
       "(140151, 13)"
      ]
     },
     "execution_count": 12,
     "metadata": {},
     "output_type": "execute_result"
    }
   ],
   "source": [
    "CompliantSea3.shape"
   ]
  },
  {
   "cell_type": "markdown",
   "metadata": {},
   "source": [
    "### Export CompliantSea3 to csv file"
   ]
  },
  {
   "cell_type": "code",
   "execution_count": 13,
   "metadata": {},
   "outputs": [],
   "source": [
    "CompliantSea3.to_csv('CompliantSea3.csv',sep = ';')"
   ]
  },
  {
   "cell_type": "markdown",
   "metadata": {},
   "source": [
    "# Part II"
   ]
  },
  {
   "cell_type": "markdown",
   "metadata": {},
   "source": [
    "## Read in NCompliantSea data"
   ]
  },
  {
   "cell_type": "code",
   "execution_count": 14,
   "metadata": {},
   "outputs": [
    {
     "data": {
      "text/html": [
       "<div>\n",
       "<style scoped>\n",
       "    .dataframe tbody tr th:only-of-type {\n",
       "        vertical-align: middle;\n",
       "    }\n",
       "\n",
       "    .dataframe tbody tr th {\n",
       "        vertical-align: top;\n",
       "    }\n",
       "\n",
       "    .dataframe thead th {\n",
       "        text-align: right;\n",
       "    }\n",
       "</style>\n",
       "<table border=\"1\" class=\"dataframe\">\n",
       "  <thead>\n",
       "    <tr style=\"text-align: right;\">\n",
       "      <th></th>\n",
       "      <th>ENTRYNO</th>\n",
       "      <th>STATION</th>\n",
       "      <th>REGISTRATIONDATE</th>\n",
       "      <th>DATEPASSED</th>\n",
       "      <th>RELEASEDATE</th>\n",
       "      <th>FRONTIER</th>\n",
       "      <th>CONSIGNEEPIN</th>\n",
       "      <th>CONSIGNEENAME</th>\n",
       "      <th>CONSIGNORPIN</th>\n",
       "      <th>CONSIGNORNAME</th>\n",
       "      <th>...</th>\n",
       "      <th>NETWEIGHT</th>\n",
       "      <th>QUANTITY</th>\n",
       "      <th>CUSTOMSVALUE</th>\n",
       "      <th>AMOUNTPAID</th>\n",
       "      <th>F147NO</th>\n",
       "      <th>F147ITEMNO</th>\n",
       "      <th>TAXCODE</th>\n",
       "      <th>TAXDESC</th>\n",
       "      <th>F147TAXAMOUNT</th>\n",
       "      <th>F147PAIDAMOUNT</th>\n",
       "    </tr>\n",
       "  </thead>\n",
       "  <tbody>\n",
       "    <tr>\n",
       "      <th>0</th>\n",
       "      <td>2017MSA6577737</td>\n",
       "      <td>MSA</td>\n",
       "      <td>02/08/2017 15:51</td>\n",
       "      <td>19/08/2017 13:37</td>\n",
       "      <td>19/08/2017 02:25</td>\n",
       "      <td>NaN</td>\n",
       "      <td>P051606785W</td>\n",
       "      <td>IGSAR GROUP KENYA LIMITED</td>\n",
       "      <td>NaN</td>\n",
       "      <td>KAMPHAENGPHET EXPORT CO., LTD AC APEX CO</td>\n",
       "      <td>...</td>\n",
       "      <td>234000</td>\n",
       "      <td>234000</td>\n",
       "      <td>1.075744e+07</td>\n",
       "      <td>5157432.0</td>\n",
       "      <td>2017MSA1156596</td>\n",
       "      <td>1</td>\n",
       "      <td>110</td>\n",
       "      <td>Import Duty - Oil</td>\n",
       "      <td>123322.0</td>\n",
       "      <td>134296</td>\n",
       "    </tr>\n",
       "    <tr>\n",
       "      <th>1</th>\n",
       "      <td>2017MSA6699782</td>\n",
       "      <td>MSA</td>\n",
       "      <td>07/11/2017 11:15</td>\n",
       "      <td>07/11/2017 13:14</td>\n",
       "      <td>08/11/2017 05:16</td>\n",
       "      <td>KLD</td>\n",
       "      <td>A006586526E</td>\n",
       "      <td>SAMUEL GAMBO MUYE</td>\n",
       "      <td>NaN</td>\n",
       "      <td>BOYUAN GROUP HOLDINGS CO LIMITED</td>\n",
       "      <td>...</td>\n",
       "      <td>14800</td>\n",
       "      <td>1382</td>\n",
       "      <td>4.890853e+05</td>\n",
       "      <td>803685.0</td>\n",
       "      <td>2017MSA1193737</td>\n",
       "      <td>1</td>\n",
       "      <td>110</td>\n",
       "      <td>Import Duty - Oil</td>\n",
       "      <td>116887.0</td>\n",
       "      <td>227387</td>\n",
       "    </tr>\n",
       "    <tr>\n",
       "      <th>2</th>\n",
       "      <td>2017MSA6699782</td>\n",
       "      <td>MSA</td>\n",
       "      <td>07/11/2017 11:15</td>\n",
       "      <td>07/11/2017 13:14</td>\n",
       "      <td>08/11/2017 05:16</td>\n",
       "      <td>KLD</td>\n",
       "      <td>A006586526E</td>\n",
       "      <td>SAMUEL GAMBO MUYE</td>\n",
       "      <td>NaN</td>\n",
       "      <td>BOYUAN GROUP HOLDINGS CO LIMITED</td>\n",
       "      <td>...</td>\n",
       "      <td>1300</td>\n",
       "      <td>1300</td>\n",
       "      <td>1.161955e+06</td>\n",
       "      <td>803685.0</td>\n",
       "      <td>2017MSA1193737</td>\n",
       "      <td>1</td>\n",
       "      <td>110</td>\n",
       "      <td>Import Duty - Oil</td>\n",
       "      <td>116887.0</td>\n",
       "      <td>227387</td>\n",
       "    </tr>\n",
       "    <tr>\n",
       "      <th>3</th>\n",
       "      <td>2017MSA6346427</td>\n",
       "      <td>MSA</td>\n",
       "      <td>06/02/2017 13:43</td>\n",
       "      <td>13/02/2017 17:45</td>\n",
       "      <td>16/02/2017 11:20</td>\n",
       "      <td>KLD</td>\n",
       "      <td>P051316595P</td>\n",
       "      <td>ASPAM ENERGY KENYA LIMITED</td>\n",
       "      <td>NaN</td>\n",
       "      <td>SURYA ENERGY FZC</td>\n",
       "      <td>...</td>\n",
       "      <td>599940</td>\n",
       "      <td>599940</td>\n",
       "      <td>1.905260e+07</td>\n",
       "      <td>6185032.0</td>\n",
       "      <td>2017MSA1087294</td>\n",
       "      <td>2</td>\n",
       "      <td>110</td>\n",
       "      <td>Import Duty - Oil     EXTRA</td>\n",
       "      <td>592252.0</td>\n",
       "      <td>1841903</td>\n",
       "    </tr>\n",
       "    <tr>\n",
       "      <th>4</th>\n",
       "      <td>2017MSA6720903</td>\n",
       "      <td>MSA</td>\n",
       "      <td>22/11/2017 14:08</td>\n",
       "      <td>23/11/2017 17:20</td>\n",
       "      <td>30/11/2017 03:51</td>\n",
       "      <td>KLD</td>\n",
       "      <td>P051316595P</td>\n",
       "      <td>ASPAM ENERGY KENYA LIMITED</td>\n",
       "      <td>NaN</td>\n",
       "      <td>INDO SWISS OIL FZC</td>\n",
       "      <td>...</td>\n",
       "      <td>302300</td>\n",
       "      <td>302300</td>\n",
       "      <td>1.004757e+07</td>\n",
       "      <td>3255630.0</td>\n",
       "      <td>2017MSA1204967</td>\n",
       "      <td>1</td>\n",
       "      <td>120</td>\n",
       "      <td>C4</td>\n",
       "      <td>195747.0</td>\n",
       "      <td>621082</td>\n",
       "    </tr>\n",
       "  </tbody>\n",
       "</table>\n",
       "<p>5 rows × 34 columns</p>\n",
       "</div>"
      ],
      "text/plain": [
       "          ENTRYNO STATION  REGISTRATIONDATE        DATEPASSED  \\\n",
       "0  2017MSA6577737     MSA  02/08/2017 15:51  19/08/2017 13:37   \n",
       "1  2017MSA6699782     MSA  07/11/2017 11:15  07/11/2017 13:14   \n",
       "2  2017MSA6699782     MSA  07/11/2017 11:15  07/11/2017 13:14   \n",
       "3  2017MSA6346427     MSA  06/02/2017 13:43  13/02/2017 17:45   \n",
       "4  2017MSA6720903     MSA  22/11/2017 14:08  23/11/2017 17:20   \n",
       "\n",
       "        RELEASEDATE FRONTIER     CONSIGNEEPIN               CONSIGNEENAME  \\\n",
       "0  19/08/2017 02:25      NaN  P051606785W       IGSAR GROUP KENYA LIMITED   \n",
       "1  08/11/2017 05:16      KLD  A006586526E               SAMUEL GAMBO MUYE   \n",
       "2  08/11/2017 05:16      KLD  A006586526E               SAMUEL GAMBO MUYE   \n",
       "3  16/02/2017 11:20      KLD  P051316595P      ASPAM ENERGY KENYA LIMITED   \n",
       "4  30/11/2017 03:51      KLD  P051316595P      ASPAM ENERGY KENYA LIMITED   \n",
       "\n",
       "  CONSIGNORPIN                             CONSIGNORNAME  ... NETWEIGHT  \\\n",
       "0          NaN  KAMPHAENGPHET EXPORT CO., LTD AC APEX CO  ...    234000   \n",
       "1          NaN          BOYUAN GROUP HOLDINGS CO LIMITED  ...     14800   \n",
       "2          NaN          BOYUAN GROUP HOLDINGS CO LIMITED  ...      1300   \n",
       "3          NaN                          SURYA ENERGY FZC  ...    599940   \n",
       "4          NaN                        INDO SWISS OIL FZC  ...    302300   \n",
       "\n",
       "  QUANTITY  CUSTOMSVALUE  AMOUNTPAID          F147NO F147ITEMNO TAXCODE  \\\n",
       "0   234000  1.075744e+07   5157432.0  2017MSA1156596          1     110   \n",
       "1     1382  4.890853e+05    803685.0  2017MSA1193737          1     110   \n",
       "2     1300  1.161955e+06    803685.0  2017MSA1193737          1     110   \n",
       "3   599940  1.905260e+07   6185032.0  2017MSA1087294          2     110   \n",
       "4   302300  1.004757e+07   3255630.0  2017MSA1204967          1     120   \n",
       "\n",
       "                             TAXDESC F147TAXAMOUNT  F147PAIDAMOUNT  \n",
       "0       Import Duty - Oil                 123322.0          134296  \n",
       "1       Import Duty - Oil                 116887.0          227387  \n",
       "2       Import Duty - Oil                 116887.0          227387  \n",
       "3  Import Duty - Oil     EXTRA            592252.0         1841903  \n",
       "4                                 C4      195747.0          621082  \n",
       "\n",
       "[5 rows x 34 columns]"
      ]
     },
     "execution_count": 14,
     "metadata": {},
     "output_type": "execute_result"
    }
   ],
   "source": [
    "NcomplianceSea = pd.read_csv('NCompliantSea.csv',sep = ';',encoding='latin',decimal= ',')\n",
    "NcomplianceSea.head()"
   ]
  },
  {
   "cell_type": "code",
   "execution_count": 15,
   "metadata": {},
   "outputs": [
    {
     "data": {
      "text/plain": [
       "(270688, 34)"
      ]
     },
     "execution_count": 15,
     "metadata": {},
     "output_type": "execute_result"
    }
   ],
   "source": [
    "NcomplianceSea.shape"
   ]
  },
  {
   "cell_type": "markdown",
   "metadata": {},
   "source": [
    "### Number of items by declaration"
   ]
  },
  {
   "cell_type": "code",
   "execution_count": 16,
   "metadata": {},
   "outputs": [
    {
     "data": {
      "text/html": [
       "<div>\n",
       "<style scoped>\n",
       "    .dataframe tbody tr th:only-of-type {\n",
       "        vertical-align: middle;\n",
       "    }\n",
       "\n",
       "    .dataframe tbody tr th {\n",
       "        vertical-align: top;\n",
       "    }\n",
       "\n",
       "    .dataframe thead th {\n",
       "        text-align: right;\n",
       "    }\n",
       "</style>\n",
       "<table border=\"1\" class=\"dataframe\">\n",
       "  <thead>\n",
       "    <tr style=\"text-align: right;\">\n",
       "      <th></th>\n",
       "      <th>Total_CUSTOMSVALUE</th>\n",
       "      <th>Total_GROSSWEIGHT</th>\n",
       "      <th>nb_items</th>\n",
       "      <th>Total_NETWEIGHT</th>\n",
       "      <th>Total_QUANTITY</th>\n",
       "    </tr>\n",
       "    <tr>\n",
       "      <th>ENTRYNO</th>\n",
       "      <th></th>\n",
       "      <th></th>\n",
       "      <th></th>\n",
       "      <th></th>\n",
       "      <th></th>\n",
       "    </tr>\n",
       "  </thead>\n",
       "  <tbody>\n",
       "    <tr>\n",
       "      <th>2017MSA6302209</th>\n",
       "      <td>2.283720e+05</td>\n",
       "      <td>1000</td>\n",
       "      <td>1</td>\n",
       "      <td>1000</td>\n",
       "      <td>1</td>\n",
       "    </tr>\n",
       "    <tr>\n",
       "      <th>2017MSA6302242</th>\n",
       "      <td>2.031940e+05</td>\n",
       "      <td>990</td>\n",
       "      <td>1</td>\n",
       "      <td>990</td>\n",
       "      <td>1</td>\n",
       "    </tr>\n",
       "    <tr>\n",
       "      <th>2017MSA6302255</th>\n",
       "      <td>2.031940e+05</td>\n",
       "      <td>990</td>\n",
       "      <td>1</td>\n",
       "      <td>990</td>\n",
       "      <td>1</td>\n",
       "    </tr>\n",
       "    <tr>\n",
       "      <th>2017MSA6302287</th>\n",
       "      <td>2.031940e+05</td>\n",
       "      <td>990</td>\n",
       "      <td>1</td>\n",
       "      <td>990</td>\n",
       "      <td>1</td>\n",
       "    </tr>\n",
       "    <tr>\n",
       "      <th>2017MSA6302288</th>\n",
       "      <td>2.789908e+07</td>\n",
       "      <td>1008800</td>\n",
       "      <td>8</td>\n",
       "      <td>958120</td>\n",
       "      <td>958120</td>\n",
       "    </tr>\n",
       "  </tbody>\n",
       "</table>\n",
       "</div>"
      ],
      "text/plain": [
       "                Total_CUSTOMSVALUE  Total_GROSSWEIGHT  nb_items  \\\n",
       "ENTRYNO                                                           \n",
       "2017MSA6302209        2.283720e+05               1000         1   \n",
       "2017MSA6302242        2.031940e+05                990         1   \n",
       "2017MSA6302255        2.031940e+05                990         1   \n",
       "2017MSA6302287        2.031940e+05                990         1   \n",
       "2017MSA6302288        2.789908e+07            1008800         8   \n",
       "\n",
       "                Total_NETWEIGHT  Total_QUANTITY  \n",
       "ENTRYNO                                          \n",
       "2017MSA6302209             1000               1  \n",
       "2017MSA6302242              990               1  \n",
       "2017MSA6302255              990               1  \n",
       "2017MSA6302287              990               1  \n",
       "2017MSA6302288           958120          958120  "
      ]
     },
     "execution_count": 16,
     "metadata": {},
     "output_type": "execute_result"
    }
   ],
   "source": [
    "# operations to performed on each column\n",
    "agg = {'ITEMNO':'count','GROSSWEIGHT':'sum', 'NETWEIGHT':'sum', 'QUANTITY':'sum', 'CUSTOMSVALUE':'sum'}\n",
    "\n",
    "# group by Entry_No and perform the above operations on each columns\n",
    "Nb_Item_by_Dec2 = pd.pivot_table(NcomplianceSea, index ='ENTRYNO', aggfunc=agg)\n",
    "\n",
    "#rename the columns\n",
    "Nb_Item_by_Dec2.columns = ['Total_CUSTOMSVALUE','Total_GROSSWEIGHT','nb_items','Total_NETWEIGHT', 'Total_QUANTITY']\n",
    "\n",
    "Nb_Item_by_Dec2.head()"
   ]
  },
  {
   "cell_type": "code",
   "execution_count": 17,
   "metadata": {},
   "outputs": [
    {
     "data": {
      "text/plain": [
       "(18271, 5)"
      ]
     },
     "execution_count": 17,
     "metadata": {},
     "output_type": "execute_result"
    }
   ],
   "source": [
    "Nb_Item_by_Dec2.shape"
   ]
  },
  {
   "cell_type": "code",
   "execution_count": 18,
   "metadata": {},
   "outputs": [
    {
     "data": {
      "text/html": [
       "<div>\n",
       "<style scoped>\n",
       "    .dataframe tbody tr th:only-of-type {\n",
       "        vertical-align: middle;\n",
       "    }\n",
       "\n",
       "    .dataframe tbody tr th {\n",
       "        vertical-align: top;\n",
       "    }\n",
       "\n",
       "    .dataframe thead th {\n",
       "        text-align: right;\n",
       "    }\n",
       "</style>\n",
       "<table border=\"1\" class=\"dataframe\">\n",
       "  <thead>\n",
       "    <tr style=\"text-align: right;\">\n",
       "      <th></th>\n",
       "      <th>ENTRYNO</th>\n",
       "      <th>Total_CUSTOMSVALUE</th>\n",
       "      <th>Total_GROSSWEIGHT</th>\n",
       "      <th>nb_items</th>\n",
       "      <th>Total_NETWEIGHT</th>\n",
       "      <th>Total_QUANTITY</th>\n",
       "      <th>STATION</th>\n",
       "      <th>REGISTRATIONDATE</th>\n",
       "      <th>DATEPASSED</th>\n",
       "      <th>RELEASEDATE</th>\n",
       "      <th>...</th>\n",
       "      <th>NETWEIGHT</th>\n",
       "      <th>QUANTITY</th>\n",
       "      <th>CUSTOMSVALUE</th>\n",
       "      <th>AMOUNTPAID</th>\n",
       "      <th>F147NO</th>\n",
       "      <th>F147ITEMNO</th>\n",
       "      <th>TAXCODE</th>\n",
       "      <th>TAXDESC</th>\n",
       "      <th>F147TAXAMOUNT</th>\n",
       "      <th>F147PAIDAMOUNT</th>\n",
       "    </tr>\n",
       "  </thead>\n",
       "  <tbody>\n",
       "    <tr>\n",
       "      <th>0</th>\n",
       "      <td>2017MSA6302209</td>\n",
       "      <td>228372.0</td>\n",
       "      <td>1000</td>\n",
       "      <td>1</td>\n",
       "      <td>1000</td>\n",
       "      <td>1</td>\n",
       "      <td>MSA</td>\n",
       "      <td>02/01/2017 18:05</td>\n",
       "      <td>04/01/2017 18:25</td>\n",
       "      <td>05/01/2017 03:52</td>\n",
       "      <td>...</td>\n",
       "      <td>1000</td>\n",
       "      <td>1</td>\n",
       "      <td>228372.0</td>\n",
       "      <td>184476.0</td>\n",
       "      <td>2017MSA1074177</td>\n",
       "      <td>2</td>\n",
       "      <td>710</td>\n",
       "      <td>IDF Fees (2%)</td>\n",
       "      <td>433.0</td>\n",
       "      <td>1543</td>\n",
       "    </tr>\n",
       "    <tr>\n",
       "      <th>1</th>\n",
       "      <td>2017MSA6302242</td>\n",
       "      <td>203194.0</td>\n",
       "      <td>990</td>\n",
       "      <td>1</td>\n",
       "      <td>990</td>\n",
       "      <td>1</td>\n",
       "      <td>MSA</td>\n",
       "      <td>03/01/2017 08:30</td>\n",
       "      <td>03/01/2017 17:38</td>\n",
       "      <td>06/01/2017 12:35</td>\n",
       "      <td>...</td>\n",
       "      <td>990</td>\n",
       "      <td>1</td>\n",
       "      <td>203194.0</td>\n",
       "      <td>164964.0</td>\n",
       "      <td>2017MSA1073982</td>\n",
       "      <td>2</td>\n",
       "      <td>710</td>\n",
       "      <td>IDF Fees (2%)</td>\n",
       "      <td>936.0</td>\n",
       "      <td>2160</td>\n",
       "    </tr>\n",
       "    <tr>\n",
       "      <th>2</th>\n",
       "      <td>2017MSA6302255</td>\n",
       "      <td>203194.0</td>\n",
       "      <td>990</td>\n",
       "      <td>1</td>\n",
       "      <td>990</td>\n",
       "      <td>1</td>\n",
       "      <td>MSA</td>\n",
       "      <td>03/01/2017 08:58</td>\n",
       "      <td>03/01/2017 16:32</td>\n",
       "      <td>06/01/2017 01:15</td>\n",
       "      <td>...</td>\n",
       "      <td>990</td>\n",
       "      <td>1</td>\n",
       "      <td>203194.0</td>\n",
       "      <td>164964.0</td>\n",
       "      <td>2017MSA1073981</td>\n",
       "      <td>2</td>\n",
       "      <td>710</td>\n",
       "      <td>IDF Fees (2%)</td>\n",
       "      <td>936.0</td>\n",
       "      <td>2160</td>\n",
       "    </tr>\n",
       "  </tbody>\n",
       "</table>\n",
       "<p>3 rows × 39 columns</p>\n",
       "</div>"
      ],
      "text/plain": [
       "          ENTRYNO  Total_CUSTOMSVALUE  Total_GROSSWEIGHT  nb_items  \\\n",
       "0  2017MSA6302209            228372.0               1000         1   \n",
       "1  2017MSA6302242            203194.0                990         1   \n",
       "2  2017MSA6302255            203194.0                990         1   \n",
       "\n",
       "   Total_NETWEIGHT  Total_QUANTITY STATION  REGISTRATIONDATE  \\\n",
       "0             1000               1     MSA  02/01/2017 18:05   \n",
       "1              990               1     MSA  03/01/2017 08:30   \n",
       "2              990               1     MSA  03/01/2017 08:58   \n",
       "\n",
       "         DATEPASSED       RELEASEDATE  ... NETWEIGHT QUANTITY CUSTOMSVALUE  \\\n",
       "0  04/01/2017 18:25  05/01/2017 03:52  ...      1000        1     228372.0   \n",
       "1  03/01/2017 17:38  06/01/2017 12:35  ...       990        1     203194.0   \n",
       "2  03/01/2017 16:32  06/01/2017 01:15  ...       990        1     203194.0   \n",
       "\n",
       "  AMOUNTPAID          F147NO F147ITEMNO TAXCODE        TAXDESC  F147TAXAMOUNT  \\\n",
       "0   184476.0  2017MSA1074177          2     710  IDF Fees (2%)          433.0   \n",
       "1   164964.0  2017MSA1073982          2     710  IDF Fees (2%)          936.0   \n",
       "2   164964.0  2017MSA1073981          2     710  IDF Fees (2%)          936.0   \n",
       "\n",
       "  F147PAIDAMOUNT  \n",
       "0           1543  \n",
       "1           2160  \n",
       "2           2160  \n",
       "\n",
       "[3 rows x 39 columns]"
      ]
     },
     "execution_count": 18,
     "metadata": {},
     "output_type": "execute_result"
    }
   ],
   "source": [
    "### to remove duplicates\n",
    "NcomplianceSea1 = NcomplianceSea.drop_duplicates(subset=['ENTRYNO'])\n",
    "\n",
    "#extraction of the first two characters of HS\n",
    "NcomplianceSea1['HSCODE'] = NcomplianceSea1.HSCODE.apply(lambda x : str(x)[:2])\n",
    "\n",
    "# Merge tables\n",
    "NcomplianceSea2 = pd.merge(Nb_Item_by_Dec2, NcomplianceSea1, on = 'ENTRYNO')\n",
    "\n",
    "# back fill missing values in \n",
    "NcomplianceSea2['DATEPASSED'] = NcomplianceSea2.DATEPASSED.bfill()\n",
    "NcomplianceSea2.head(3)\n"
   ]
  },
  {
   "cell_type": "code",
   "execution_count": 19,
   "metadata": {},
   "outputs": [
    {
     "data": {
      "text/plain": [
       "(18271, 39)"
      ]
     },
     "execution_count": 19,
     "metadata": {},
     "output_type": "execute_result"
    }
   ],
   "source": [
    "NcomplianceSea2.shape"
   ]
  },
  {
   "cell_type": "code",
   "execution_count": 20,
   "metadata": {},
   "outputs": [
    {
     "data": {
      "text/html": [
       "<div>\n",
       "<style scoped>\n",
       "    .dataframe tbody tr th:only-of-type {\n",
       "        vertical-align: middle;\n",
       "    }\n",
       "\n",
       "    .dataframe tbody tr th {\n",
       "        vertical-align: top;\n",
       "    }\n",
       "\n",
       "    .dataframe thead th {\n",
       "        text-align: right;\n",
       "    }\n",
       "</style>\n",
       "<table border=\"1\" class=\"dataframe\">\n",
       "  <thead>\n",
       "    <tr style=\"text-align: right;\">\n",
       "      <th></th>\n",
       "      <th>ENTRYNO</th>\n",
       "      <th>REGISTRATIONDATE</th>\n",
       "      <th>DATEPASSED</th>\n",
       "      <th>HSCODE</th>\n",
       "      <th>nb_items</th>\n",
       "      <th>Total_GROSSWEIGHT</th>\n",
       "      <th>Total_NETWEIGHT</th>\n",
       "      <th>Total_QUANTITY</th>\n",
       "      <th>Total_CUSTOMSVALUE</th>\n",
       "    </tr>\n",
       "  </thead>\n",
       "  <tbody>\n",
       "    <tr>\n",
       "      <th>0</th>\n",
       "      <td>2017MSA6302209</td>\n",
       "      <td>02/01/2017 18:05</td>\n",
       "      <td>04/01/2017 18:25</td>\n",
       "      <td>87</td>\n",
       "      <td>1</td>\n",
       "      <td>1000</td>\n",
       "      <td>1000</td>\n",
       "      <td>1</td>\n",
       "      <td>228372.0</td>\n",
       "    </tr>\n",
       "    <tr>\n",
       "      <th>1</th>\n",
       "      <td>2017MSA6302242</td>\n",
       "      <td>03/01/2017 08:30</td>\n",
       "      <td>03/01/2017 17:38</td>\n",
       "      <td>87</td>\n",
       "      <td>1</td>\n",
       "      <td>990</td>\n",
       "      <td>990</td>\n",
       "      <td>1</td>\n",
       "      <td>203194.0</td>\n",
       "    </tr>\n",
       "    <tr>\n",
       "      <th>2</th>\n",
       "      <td>2017MSA6302255</td>\n",
       "      <td>03/01/2017 08:58</td>\n",
       "      <td>03/01/2017 16:32</td>\n",
       "      <td>87</td>\n",
       "      <td>1</td>\n",
       "      <td>990</td>\n",
       "      <td>990</td>\n",
       "      <td>1</td>\n",
       "      <td>203194.0</td>\n",
       "    </tr>\n",
       "  </tbody>\n",
       "</table>\n",
       "</div>"
      ],
      "text/plain": [
       "          ENTRYNO  REGISTRATIONDATE        DATEPASSED HSCODE  nb_items  \\\n",
       "0  2017MSA6302209  02/01/2017 18:05  04/01/2017 18:25     87         1   \n",
       "1  2017MSA6302242  03/01/2017 08:30  03/01/2017 17:38     87         1   \n",
       "2  2017MSA6302255  03/01/2017 08:58  03/01/2017 16:32     87         1   \n",
       "\n",
       "   Total_GROSSWEIGHT  Total_NETWEIGHT  Total_QUANTITY  Total_CUSTOMSVALUE  \n",
       "0               1000             1000               1            228372.0  \n",
       "1                990              990               1            203194.0  \n",
       "2                990              990               1            203194.0  "
      ]
     },
     "execution_count": 20,
     "metadata": {},
     "output_type": "execute_result"
    }
   ],
   "source": [
    "# retrieve columns that interest us in our model\n",
    "colns = ['ENTRYNO','REGISTRATIONDATE','DATEPASSED','HSCODE', 'nb_items',\n",
    "        'Total_GROSSWEIGHT', 'Total_NETWEIGHT','Total_QUANTITY', 'Total_CUSTOMSVALUE']\n",
    "\n",
    "NCompliantSea3 = NcomplianceSea2[colns]\n",
    "NCompliantSea3.head(3)"
   ]
  },
  {
   "cell_type": "code",
   "execution_count": 21,
   "metadata": {},
   "outputs": [
    {
     "data": {
      "text/html": [
       "<div>\n",
       "<style scoped>\n",
       "    .dataframe tbody tr th:only-of-type {\n",
       "        vertical-align: middle;\n",
       "    }\n",
       "\n",
       "    .dataframe tbody tr th {\n",
       "        vertical-align: top;\n",
       "    }\n",
       "\n",
       "    .dataframe thead th {\n",
       "        text-align: right;\n",
       "    }\n",
       "</style>\n",
       "<table border=\"1\" class=\"dataframe\">\n",
       "  <thead>\n",
       "    <tr style=\"text-align: right;\">\n",
       "      <th></th>\n",
       "      <th>ENTRYNO</th>\n",
       "      <th>REGISTRATIONDATE</th>\n",
       "      <th>DATEPASSED</th>\n",
       "      <th>HSCODE</th>\n",
       "      <th>nb_items</th>\n",
       "      <th>Total_GROSSWEIGHT</th>\n",
       "      <th>Total_NETWEIGHT</th>\n",
       "      <th>Total_QUANTITY</th>\n",
       "      <th>Total_CUSTOMSVALUE</th>\n",
       "      <th>DurationRegToPas</th>\n",
       "      <th>MonthRegistration</th>\n",
       "      <th>DayRegistration</th>\n",
       "      <th>Target</th>\n",
       "    </tr>\n",
       "  </thead>\n",
       "  <tbody>\n",
       "    <tr>\n",
       "      <th>0</th>\n",
       "      <td>2017MSA6302209</td>\n",
       "      <td>2017-01-02 18:05:00</td>\n",
       "      <td>2017-01-04 18:25:00</td>\n",
       "      <td>87</td>\n",
       "      <td>1</td>\n",
       "      <td>1000</td>\n",
       "      <td>1000</td>\n",
       "      <td>1</td>\n",
       "      <td>2.283720e+05</td>\n",
       "      <td>2</td>\n",
       "      <td>1</td>\n",
       "      <td>1</td>\n",
       "      <td>0</td>\n",
       "    </tr>\n",
       "    <tr>\n",
       "      <th>1</th>\n",
       "      <td>2017MSA6302242</td>\n",
       "      <td>2017-01-03 08:30:00</td>\n",
       "      <td>2017-01-03 17:38:00</td>\n",
       "      <td>87</td>\n",
       "      <td>1</td>\n",
       "      <td>990</td>\n",
       "      <td>990</td>\n",
       "      <td>1</td>\n",
       "      <td>2.031940e+05</td>\n",
       "      <td>0</td>\n",
       "      <td>1</td>\n",
       "      <td>2</td>\n",
       "      <td>0</td>\n",
       "    </tr>\n",
       "    <tr>\n",
       "      <th>2</th>\n",
       "      <td>2017MSA6302255</td>\n",
       "      <td>2017-01-03 08:58:00</td>\n",
       "      <td>2017-01-03 16:32:00</td>\n",
       "      <td>87</td>\n",
       "      <td>1</td>\n",
       "      <td>990</td>\n",
       "      <td>990</td>\n",
       "      <td>1</td>\n",
       "      <td>2.031940e+05</td>\n",
       "      <td>0</td>\n",
       "      <td>1</td>\n",
       "      <td>2</td>\n",
       "      <td>0</td>\n",
       "    </tr>\n",
       "    <tr>\n",
       "      <th>3</th>\n",
       "      <td>2017MSA6302287</td>\n",
       "      <td>2017-01-03 09:24:00</td>\n",
       "      <td>2017-01-03 20:42:00</td>\n",
       "      <td>87</td>\n",
       "      <td>1</td>\n",
       "      <td>990</td>\n",
       "      <td>990</td>\n",
       "      <td>1</td>\n",
       "      <td>2.031940e+05</td>\n",
       "      <td>0</td>\n",
       "      <td>1</td>\n",
       "      <td>2</td>\n",
       "      <td>0</td>\n",
       "    </tr>\n",
       "    <tr>\n",
       "      <th>4</th>\n",
       "      <td>2017MSA6302288</td>\n",
       "      <td>2017-01-03 09:24:00</td>\n",
       "      <td>2017-01-06 17:56:00</td>\n",
       "      <td>27</td>\n",
       "      <td>8</td>\n",
       "      <td>1008800</td>\n",
       "      <td>958120</td>\n",
       "      <td>958120</td>\n",
       "      <td>2.789908e+07</td>\n",
       "      <td>3</td>\n",
       "      <td>1</td>\n",
       "      <td>2</td>\n",
       "      <td>0</td>\n",
       "    </tr>\n",
       "  </tbody>\n",
       "</table>\n",
       "</div>"
      ],
      "text/plain": [
       "          ENTRYNO    REGISTRATIONDATE          DATEPASSED HSCODE  nb_items  \\\n",
       "0  2017MSA6302209 2017-01-02 18:05:00 2017-01-04 18:25:00     87         1   \n",
       "1  2017MSA6302242 2017-01-03 08:30:00 2017-01-03 17:38:00     87         1   \n",
       "2  2017MSA6302255 2017-01-03 08:58:00 2017-01-03 16:32:00     87         1   \n",
       "3  2017MSA6302287 2017-01-03 09:24:00 2017-01-03 20:42:00     87         1   \n",
       "4  2017MSA6302288 2017-01-03 09:24:00 2017-01-06 17:56:00     27         8   \n",
       "\n",
       "   Total_GROSSWEIGHT  Total_NETWEIGHT  Total_QUANTITY  Total_CUSTOMSVALUE  \\\n",
       "0               1000             1000               1        2.283720e+05   \n",
       "1                990              990               1        2.031940e+05   \n",
       "2                990              990               1        2.031940e+05   \n",
       "3                990              990               1        2.031940e+05   \n",
       "4            1008800           958120          958120        2.789908e+07   \n",
       "\n",
       "   DurationRegToPas  MonthRegistration  DayRegistration  Target  \n",
       "0                 2                  1                1       0  \n",
       "1                 0                  1                2       0  \n",
       "2                 0                  1                2       0  \n",
       "3                 0                  1                2       0  \n",
       "4                 3                  1                2       0  "
      ]
     },
     "execution_count": 21,
     "metadata": {},
     "output_type": "execute_result"
    }
   ],
   "source": [
    "# datetime conversion\n",
    "NCompliantSea3['REGISTRATIONDATE'] = pd.to_datetime(NCompliantSea3.REGISTRATIONDATE, dayfirst = True)\n",
    "NCompliantSea3['DATEPASSED'] = pd.to_datetime(NCompliantSea3.DATEPASSED, dayfirst = True)\n",
    "\n",
    "# day difference\n",
    "NCompliantSea3['DurationRegToPas'] = NCompliantSea3.DATEPASSED.dt.day - NCompliantSea3.REGISTRATIONDATE.dt.day\n",
    "\n",
    "# month in Registration\n",
    "NCompliantSea3['MonthRegistration'] = NCompliantSea3.REGISTRATIONDATE.dt.month\n",
    "\n",
    "# week days for registration\n",
    "NCompliantSea3['DayRegistration'] = NCompliantSea3.REGISTRATIONDATE.dt.weekday+1\n",
    "\n",
    "# add new variables \n",
    "NCompliantSea3['Target'] = 0\n",
    "\n",
    "# view top 5\n",
    "NCompliantSea3.head()"
   ]
  },
  {
   "cell_type": "code",
   "execution_count": 22,
   "metadata": {},
   "outputs": [
    {
     "data": {
      "text/plain": [
       "(18271, 13)"
      ]
     },
     "execution_count": 22,
     "metadata": {},
     "output_type": "execute_result"
    }
   ],
   "source": [
    "NCompliantSea3.shape"
   ]
  },
  {
   "cell_type": "markdown",
   "metadata": {},
   "source": [
    "### Export NCompliantSea3 to csv file"
   ]
  },
  {
   "cell_type": "code",
   "execution_count": 23,
   "metadata": {},
   "outputs": [],
   "source": [
    "NCompliantSea3.to_csv('NCompliantSea3.csv',sep = ';')"
   ]
  },
  {
   "cell_type": "code",
   "execution_count": null,
   "metadata": {},
   "outputs": [],
   "source": []
  },
  {
   "cell_type": "markdown",
   "metadata": {},
   "source": [
    "## Merge dataframes (CompliantSea3, NCompliantSea3)"
   ]
  },
  {
   "cell_type": "code",
   "execution_count": 24,
   "metadata": {},
   "outputs": [
    {
     "data": {
      "text/html": [
       "<div>\n",
       "<style scoped>\n",
       "    .dataframe tbody tr th:only-of-type {\n",
       "        vertical-align: middle;\n",
       "    }\n",
       "\n",
       "    .dataframe tbody tr th {\n",
       "        vertical-align: top;\n",
       "    }\n",
       "\n",
       "    .dataframe thead th {\n",
       "        text-align: right;\n",
       "    }\n",
       "</style>\n",
       "<table border=\"1\" class=\"dataframe\">\n",
       "  <thead>\n",
       "    <tr style=\"text-align: right;\">\n",
       "      <th></th>\n",
       "      <th>ENTRYNO</th>\n",
       "      <th>REGISTRATIONDATE</th>\n",
       "      <th>DATEPASSED</th>\n",
       "      <th>HSCODE</th>\n",
       "      <th>nb_items</th>\n",
       "      <th>Total_GROSSWEIGHT</th>\n",
       "      <th>Total_NETWEIGHT</th>\n",
       "      <th>Total_QUANTITY</th>\n",
       "      <th>Total_CUSTOMSVALUE</th>\n",
       "      <th>DurationRegToPas</th>\n",
       "      <th>MonthRegistration</th>\n",
       "      <th>DayRegistration</th>\n",
       "      <th>Target</th>\n",
       "    </tr>\n",
       "  </thead>\n",
       "  <tbody>\n",
       "    <tr>\n",
       "      <th>0</th>\n",
       "      <td>2017MSA6302186</td>\n",
       "      <td>2017-01-01 09:15:00</td>\n",
       "      <td>2017-01-03 18:23:00</td>\n",
       "      <td>70</td>\n",
       "      <td>4</td>\n",
       "      <td>26000</td>\n",
       "      <td>25500</td>\n",
       "      <td>2592</td>\n",
       "      <td>1344572.730</td>\n",
       "      <td>2</td>\n",
       "      <td>1</td>\n",
       "      <td>7</td>\n",
       "      <td>1</td>\n",
       "    </tr>\n",
       "    <tr>\n",
       "      <th>1</th>\n",
       "      <td>2017MSA6302191</td>\n",
       "      <td>2017-01-02 11:45:00</td>\n",
       "      <td>2017-01-11 17:41:00</td>\n",
       "      <td>27</td>\n",
       "      <td>1</td>\n",
       "      <td>8010</td>\n",
       "      <td>7327</td>\n",
       "      <td>8190</td>\n",
       "      <td>1259081.504</td>\n",
       "      <td>9</td>\n",
       "      <td>1</td>\n",
       "      <td>1</td>\n",
       "      <td>1</td>\n",
       "    </tr>\n",
       "    <tr>\n",
       "      <th>2</th>\n",
       "      <td>2017MSA6302193</td>\n",
       "      <td>2017-01-02 12:31:00</td>\n",
       "      <td>2017-01-04 12:11:00</td>\n",
       "      <td>73</td>\n",
       "      <td>7</td>\n",
       "      <td>5062</td>\n",
       "      <td>5062</td>\n",
       "      <td>5867</td>\n",
       "      <td>1995675.653</td>\n",
       "      <td>2</td>\n",
       "      <td>1</td>\n",
       "      <td>1</td>\n",
       "      <td>1</td>\n",
       "    </tr>\n",
       "    <tr>\n",
       "      <th>3</th>\n",
       "      <td>2017MSA6302195</td>\n",
       "      <td>2017-01-02 12:42:00</td>\n",
       "      <td>2017-01-03 12:34:00</td>\n",
       "      <td>87</td>\n",
       "      <td>1</td>\n",
       "      <td>1010</td>\n",
       "      <td>1010</td>\n",
       "      <td>1</td>\n",
       "      <td>299062.000</td>\n",
       "      <td>1</td>\n",
       "      <td>1</td>\n",
       "      <td>1</td>\n",
       "      <td>1</td>\n",
       "    </tr>\n",
       "    <tr>\n",
       "      <th>4</th>\n",
       "      <td>2017MSA6302196</td>\n",
       "      <td>2017-01-02 13:00:00</td>\n",
       "      <td>2017-01-05 22:14:00</td>\n",
       "      <td>31</td>\n",
       "      <td>1</td>\n",
       "      <td>48096</td>\n",
       "      <td>48000</td>\n",
       "      <td>48000</td>\n",
       "      <td>883802.708</td>\n",
       "      <td>3</td>\n",
       "      <td>1</td>\n",
       "      <td>1</td>\n",
       "      <td>1</td>\n",
       "    </tr>\n",
       "  </tbody>\n",
       "</table>\n",
       "</div>"
      ],
      "text/plain": [
       "          ENTRYNO    REGISTRATIONDATE          DATEPASSED HSCODE  nb_items  \\\n",
       "0  2017MSA6302186 2017-01-01 09:15:00 2017-01-03 18:23:00     70         4   \n",
       "1  2017MSA6302191 2017-01-02 11:45:00 2017-01-11 17:41:00     27         1   \n",
       "2  2017MSA6302193 2017-01-02 12:31:00 2017-01-04 12:11:00     73         7   \n",
       "3  2017MSA6302195 2017-01-02 12:42:00 2017-01-03 12:34:00     87         1   \n",
       "4  2017MSA6302196 2017-01-02 13:00:00 2017-01-05 22:14:00     31         1   \n",
       "\n",
       "   Total_GROSSWEIGHT  Total_NETWEIGHT  Total_QUANTITY  Total_CUSTOMSVALUE  \\\n",
       "0              26000            25500            2592         1344572.730   \n",
       "1               8010             7327            8190         1259081.504   \n",
       "2               5062             5062            5867         1995675.653   \n",
       "3               1010             1010               1          299062.000   \n",
       "4              48096            48000           48000          883802.708   \n",
       "\n",
       "   DurationRegToPas  MonthRegistration  DayRegistration  Target  \n",
       "0                 2                  1                7       1  \n",
       "1                 9                  1                1       1  \n",
       "2                 2                  1                1       1  \n",
       "3                 1                  1                1       1  \n",
       "4                 3                  1                1       1  "
      ]
     },
     "execution_count": 24,
     "metadata": {},
     "output_type": "execute_result"
    }
   ],
   "source": [
    "# merge dataframes\n",
    "CompliantSea4 = pd.merge(CompliantSea3, NCompliantSea3, left_on=list(CompliantSea3.columns), \n",
    "              right_on=list(NCompliantSea3.columns),how = 'outer')\n",
    "\n",
    "#sort values by \n",
    "CompliantSea4 = CompliantSea4.sort_values(by = 'ENTRYNO' )\n",
    "CompliantSea4.head()"
   ]
  },
  {
   "cell_type": "code",
   "execution_count": 25,
   "metadata": {},
   "outputs": [
    {
     "data": {
      "text/plain": [
       "(158422, 13)"
      ]
     },
     "execution_count": 25,
     "metadata": {},
     "output_type": "execute_result"
    }
   ],
   "source": [
    "CompliantSea4.shape"
   ]
  },
  {
   "cell_type": "markdown",
   "metadata": {},
   "source": [
    "### Checking if the Target variable is balance"
   ]
  },
  {
   "cell_type": "code",
   "execution_count": 26,
   "metadata": {},
   "outputs": [
    {
     "data": {
      "image/png": "[encoded data removed]",
      "text/plain": [
       "<Figure size 432x288 with 1 Axes>"
      ]
     },
     "metadata": {
      "needs_background": "light"
     },
     "output_type": "display_data"
    }
   ],
   "source": [
    "sn.countplot(CompliantSea4.Target)\n",
    "plt.show()"
   ]
  },
  {
   "cell_type": "markdown",
   "metadata": {},
   "source": [
    "## Export CompliantSea4 to csv"
   ]
  },
  {
   "cell_type": "code",
   "execution_count": 27,
   "metadata": {},
   "outputs": [],
   "source": [
    "CompliantSea4.to_csv('Base_data.csv',sep = ';')"
   ]
  },
  {
   "cell_type": "markdown",
   "metadata": {},
   "source": [
    "# Part III"
   ]
  },
  {
   "cell_type": "markdown",
   "metadata": {},
   "source": [
    "## Build Machine Learning Models"
   ]
  },
  {
   "cell_type": "markdown",
   "metadata": {},
   "source": [
    "### Machine Learning Libraries"
   ]
  },
  {
   "cell_type": "code",
   "execution_count": 27,
   "metadata": {},
   "outputs": [],
   "source": [
    "from sklearn.model_selection import train_test_split, cross_val_score\n",
    "from imblearn.over_sampling import RandomOverSampler\n",
    "\n",
    "from sklearn.preprocessing import Normalizer,StandardScaler, MinMaxScaler\n",
    "from sklearn.linear_model import LogisticRegression\n",
    "from sklearn.tree import DecisionTreeClassifier\n",
    "from sklearn.neighbors import KNeighborsClassifier\n",
    "from sklearn.ensemble import RandomForestClassifier\n",
    "from sklearn.ensemble import AdaBoostClassifier\n",
    "from sklearn.metrics import classification_report, roc_curve,roc_auc_score"
   ]
  },
  {
   "cell_type": "markdown",
   "metadata": {},
   "source": [
    "# Working data 1\n",
    "### Select subset (features) of the base data"
   ]
  },
  {
   "cell_type": "code",
   "execution_count": 28,
   "metadata": {},
   "outputs": [
    {
     "data": {
      "text/html": [
       "<div>\n",
       "<style scoped>\n",
       "    .dataframe tbody tr th:only-of-type {\n",
       "        vertical-align: middle;\n",
       "    }\n",
       "\n",
       "    .dataframe tbody tr th {\n",
       "        vertical-align: top;\n",
       "    }\n",
       "\n",
       "    .dataframe thead th {\n",
       "        text-align: right;\n",
       "    }\n",
       "</style>\n",
       "<table border=\"1\" class=\"dataframe\">\n",
       "  <thead>\n",
       "    <tr style=\"text-align: right;\">\n",
       "      <th></th>\n",
       "      <th>nb_items</th>\n",
       "      <th>Total_GROSSWEIGHT</th>\n",
       "      <th>Total_NETWEIGHT</th>\n",
       "      <th>Total_QUANTITY</th>\n",
       "      <th>Total_CUSTOMSVALUE</th>\n",
       "      <th>MonthRegistration</th>\n",
       "      <th>DayRegistration</th>\n",
       "      <th>Target</th>\n",
       "    </tr>\n",
       "  </thead>\n",
       "  <tbody>\n",
       "    <tr>\n",
       "      <th>0</th>\n",
       "      <td>4</td>\n",
       "      <td>26000</td>\n",
       "      <td>25500</td>\n",
       "      <td>2592</td>\n",
       "      <td>1344572.730</td>\n",
       "      <td>1</td>\n",
       "      <td>7</td>\n",
       "      <td>1</td>\n",
       "    </tr>\n",
       "    <tr>\n",
       "      <th>1</th>\n",
       "      <td>1</td>\n",
       "      <td>8010</td>\n",
       "      <td>7327</td>\n",
       "      <td>8190</td>\n",
       "      <td>1259081.504</td>\n",
       "      <td>1</td>\n",
       "      <td>1</td>\n",
       "      <td>1</td>\n",
       "    </tr>\n",
       "    <tr>\n",
       "      <th>2</th>\n",
       "      <td>7</td>\n",
       "      <td>5062</td>\n",
       "      <td>5062</td>\n",
       "      <td>5867</td>\n",
       "      <td>1995675.653</td>\n",
       "      <td>1</td>\n",
       "      <td>1</td>\n",
       "      <td>1</td>\n",
       "    </tr>\n",
       "    <tr>\n",
       "      <th>3</th>\n",
       "      <td>1</td>\n",
       "      <td>1010</td>\n",
       "      <td>1010</td>\n",
       "      <td>1</td>\n",
       "      <td>299062.000</td>\n",
       "      <td>1</td>\n",
       "      <td>1</td>\n",
       "      <td>1</td>\n",
       "    </tr>\n",
       "    <tr>\n",
       "      <th>4</th>\n",
       "      <td>1</td>\n",
       "      <td>48096</td>\n",
       "      <td>48000</td>\n",
       "      <td>48000</td>\n",
       "      <td>883802.708</td>\n",
       "      <td>1</td>\n",
       "      <td>1</td>\n",
       "      <td>1</td>\n",
       "    </tr>\n",
       "  </tbody>\n",
       "</table>\n",
       "</div>"
      ],
      "text/plain": [
       "   nb_items  Total_GROSSWEIGHT  Total_NETWEIGHT  Total_QUANTITY  \\\n",
       "0         4              26000            25500            2592   \n",
       "1         1               8010             7327            8190   \n",
       "2         7               5062             5062            5867   \n",
       "3         1               1010             1010               1   \n",
       "4         1              48096            48000           48000   \n",
       "\n",
       "   Total_CUSTOMSVALUE  MonthRegistration  DayRegistration  Target  \n",
       "0         1344572.730                  1                7       1  \n",
       "1         1259081.504                  1                1       1  \n",
       "2         1995675.653                  1                1       1  \n",
       "3          299062.000                  1                1       1  \n",
       "4          883802.708                  1                1       1  "
      ]
     },
     "execution_count": 28,
     "metadata": {},
     "output_type": "execute_result"
    }
   ],
   "source": [
    "relevant_selection = ['nb_items','Total_GROSSWEIGHT','Total_NETWEIGHT','Total_QUANTITY','Total_CUSTOMSVALUE',\n",
    "                        'MonthRegistration','DayRegistration', 'Target']\n",
    "\n",
    "New_dataset1 = CompliantSea4.copy()[relevant_selection]\n",
    "New_dataset1.head()"
   ]
  },
  {
   "cell_type": "code",
   "execution_count": 29,
   "metadata": {},
   "outputs": [
    {
     "data": {
      "text/plain": [
       "(158422, 8)"
      ]
     },
     "execution_count": 29,
     "metadata": {},
     "output_type": "execute_result"
    }
   ],
   "source": [
    "New_dataset1.shape"
   ]
  },
  {
   "cell_type": "markdown",
   "metadata": {},
   "source": [
    "### Train-Test split"
   ]
  },
  {
   "cell_type": "code",
   "execution_count": 30,
   "metadata": {},
   "outputs": [],
   "source": [
    "X = New_dataset1.copy()\n",
    "y = X.pop('Target')\n",
    "\n",
    "X_train, X_test, y_train, y_test = train_test_split(X,y,train_size = 0.8, stratify  = y,random_state = 6)"
   ]
  },
  {
   "cell_type": "markdown",
   "metadata": {},
   "source": [
    "### Logistic regression 1"
   ]
  },
  {
   "cell_type": "code",
   "execution_count": 31,
   "metadata": {},
   "outputs": [
    {
     "data": {
      "text/html": [
       "<div>\n",
       "<style scoped>\n",
       "    .dataframe tbody tr th:only-of-type {\n",
       "        vertical-align: middle;\n",
       "    }\n",
       "\n",
       "    .dataframe tbody tr th {\n",
       "        vertical-align: top;\n",
       "    }\n",
       "\n",
       "    .dataframe thead th {\n",
       "        text-align: right;\n",
       "    }\n",
       "</style>\n",
       "<table border=\"1\" class=\"dataframe\">\n",
       "  <thead>\n",
       "    <tr style=\"text-align: right;\">\n",
       "      <th>col_0</th>\n",
       "      <th>0</th>\n",
       "      <th>1</th>\n",
       "    </tr>\n",
       "    <tr>\n",
       "      <th>Target</th>\n",
       "      <th></th>\n",
       "      <th></th>\n",
       "    </tr>\n",
       "  </thead>\n",
       "  <tbody>\n",
       "    <tr>\n",
       "      <th>0</th>\n",
       "      <td>75</td>\n",
       "      <td>3579</td>\n",
       "    </tr>\n",
       "    <tr>\n",
       "      <th>1</th>\n",
       "      <td>365</td>\n",
       "      <td>27666</td>\n",
       "    </tr>\n",
       "  </tbody>\n",
       "</table>\n",
       "</div>"
      ],
      "text/plain": [
       "col_0     0      1\n",
       "Target            \n",
       "0        75   3579\n",
       "1       365  27666"
      ]
     },
     "execution_count": 31,
     "metadata": {},
     "output_type": "execute_result"
    }
   ],
   "source": [
    "LModel = LogisticRegression()\n",
    "LModel.fit(X_train,y_train) \n",
    "\n",
    "pred1 = LModel.predict(X_test)\n",
    "pd.crosstab(y_test,pred1)"
   ]
  },
  {
   "cell_type": "code",
   "execution_count": 32,
   "metadata": {},
   "outputs": [
    {
     "name": "stdout",
     "output_type": "stream",
     "text": [
      "              precision    recall  f1-score   support\n",
      "\n",
      "           0       0.17      0.02      0.04      3654\n",
      "           1       0.89      0.99      0.93     28031\n",
      "\n",
      "    accuracy                           0.88     31685\n",
      "   macro avg       0.53      0.50      0.49     31685\n",
      "weighted avg       0.80      0.88      0.83     31685\n",
      "\n"
     ]
    }
   ],
   "source": [
    "print(classification_report(y_test,pred1))"
   ]
  },
  {
   "cell_type": "markdown",
   "metadata": {},
   "source": [
    "### Decision Tree 1"
   ]
  },
  {
   "cell_type": "code",
   "execution_count": 33,
   "metadata": {},
   "outputs": [
    {
     "data": {
      "text/html": [
       "<div>\n",
       "<style scoped>\n",
       "    .dataframe tbody tr th:only-of-type {\n",
       "        vertical-align: middle;\n",
       "    }\n",
       "\n",
       "    .dataframe tbody tr th {\n",
       "        vertical-align: top;\n",
       "    }\n",
       "\n",
       "    .dataframe thead th {\n",
       "        text-align: right;\n",
       "    }\n",
       "</style>\n",
       "<table border=\"1\" class=\"dataframe\">\n",
       "  <thead>\n",
       "    <tr style=\"text-align: right;\">\n",
       "      <th>col_0</th>\n",
       "      <th>0</th>\n",
       "      <th>1</th>\n",
       "    </tr>\n",
       "    <tr>\n",
       "      <th>Target</th>\n",
       "      <th></th>\n",
       "      <th></th>\n",
       "    </tr>\n",
       "  </thead>\n",
       "  <tbody>\n",
       "    <tr>\n",
       "      <th>0</th>\n",
       "      <td>2424</td>\n",
       "      <td>1230</td>\n",
       "    </tr>\n",
       "    <tr>\n",
       "      <th>1</th>\n",
       "      <td>1428</td>\n",
       "      <td>26603</td>\n",
       "    </tr>\n",
       "  </tbody>\n",
       "</table>\n",
       "</div>"
      ],
      "text/plain": [
       "col_0      0      1\n",
       "Target             \n",
       "0       2424   1230\n",
       "1       1428  26603"
      ]
     },
     "execution_count": 33,
     "metadata": {},
     "output_type": "execute_result"
    }
   ],
   "source": [
    "D_tree1 = DecisionTreeClassifier()\n",
    "D_tree1.fit(X_train,y_train)\n",
    "\n",
    "D_tree_pred = D_tree1.predict(X_test)\n",
    "pd.crosstab(y_test,D_tree_pred)\n"
   ]
  },
  {
   "cell_type": "code",
   "execution_count": 34,
   "metadata": {
    "scrolled": true
   },
   "outputs": [
    {
     "name": "stdout",
     "output_type": "stream",
     "text": [
      "              precision    recall  f1-score   support\n",
      "\n",
      "           0       0.63      0.66      0.65      3654\n",
      "           1       0.96      0.95      0.95     28031\n",
      "\n",
      "    accuracy                           0.92     31685\n",
      "   macro avg       0.79      0.81      0.80     31685\n",
      "weighted avg       0.92      0.92      0.92     31685\n",
      "\n"
     ]
    }
   ],
   "source": [
    "print(classification_report(y_test,D_tree_pred))"
   ]
  },
  {
   "cell_type": "markdown",
   "metadata": {},
   "source": [
    "### KNN 1"
   ]
  },
  {
   "cell_type": "code",
   "execution_count": 35,
   "metadata": {},
   "outputs": [
    {
     "data": {
      "text/html": [
       "<div>\n",
       "<style scoped>\n",
       "    .dataframe tbody tr th:only-of-type {\n",
       "        vertical-align: middle;\n",
       "    }\n",
       "\n",
       "    .dataframe tbody tr th {\n",
       "        vertical-align: top;\n",
       "    }\n",
       "\n",
       "    .dataframe thead th {\n",
       "        text-align: right;\n",
       "    }\n",
       "</style>\n",
       "<table border=\"1\" class=\"dataframe\">\n",
       "  <thead>\n",
       "    <tr style=\"text-align: right;\">\n",
       "      <th>col_0</th>\n",
       "      <th>0</th>\n",
       "      <th>1</th>\n",
       "    </tr>\n",
       "    <tr>\n",
       "      <th>Target</th>\n",
       "      <th></th>\n",
       "      <th></th>\n",
       "    </tr>\n",
       "  </thead>\n",
       "  <tbody>\n",
       "    <tr>\n",
       "      <th>0</th>\n",
       "      <td>2025</td>\n",
       "      <td>1629</td>\n",
       "    </tr>\n",
       "    <tr>\n",
       "      <th>1</th>\n",
       "      <td>3463</td>\n",
       "      <td>24568</td>\n",
       "    </tr>\n",
       "  </tbody>\n",
       "</table>\n",
       "</div>"
      ],
      "text/plain": [
       "col_0      0      1\n",
       "Target             \n",
       "0       2025   1629\n",
       "1       3463  24568"
      ]
     },
     "execution_count": 35,
     "metadata": {},
     "output_type": "execute_result"
    }
   ],
   "source": [
    "knn = KNeighborsClassifier(n_neighbors=2)\n",
    "knn.fit(X_train,y_train)\n",
    "\n",
    "pred_knn = knn.predict(X_test)\n",
    "pd.crosstab(y_test,pred_knn)\n"
   ]
  },
  {
   "cell_type": "code",
   "execution_count": 36,
   "metadata": {},
   "outputs": [
    {
     "name": "stdout",
     "output_type": "stream",
     "text": [
      "              precision    recall  f1-score   support\n",
      "\n",
      "           0       0.37      0.55      0.44      3654\n",
      "           1       0.94      0.88      0.91     28031\n",
      "\n",
      "    accuracy                           0.84     31685\n",
      "   macro avg       0.65      0.72      0.67     31685\n",
      "weighted avg       0.87      0.84      0.85     31685\n",
      "\n"
     ]
    }
   ],
   "source": [
    "print(classification_report(y_test,pred_knn))"
   ]
  },
  {
   "cell_type": "markdown",
   "metadata": {},
   "source": [
    "### Random Forest 1"
   ]
  },
  {
   "cell_type": "code",
   "execution_count": 37,
   "metadata": {},
   "outputs": [
    {
     "data": {
      "text/html": [
       "<div>\n",
       "<style scoped>\n",
       "    .dataframe tbody tr th:only-of-type {\n",
       "        vertical-align: middle;\n",
       "    }\n",
       "\n",
       "    .dataframe tbody tr th {\n",
       "        vertical-align: top;\n",
       "    }\n",
       "\n",
       "    .dataframe thead th {\n",
       "        text-align: right;\n",
       "    }\n",
       "</style>\n",
       "<table border=\"1\" class=\"dataframe\">\n",
       "  <thead>\n",
       "    <tr style=\"text-align: right;\">\n",
       "      <th>col_0</th>\n",
       "      <th>0</th>\n",
       "      <th>1</th>\n",
       "    </tr>\n",
       "    <tr>\n",
       "      <th>Target</th>\n",
       "      <th></th>\n",
       "      <th></th>\n",
       "    </tr>\n",
       "  </thead>\n",
       "  <tbody>\n",
       "    <tr>\n",
       "      <th>0</th>\n",
       "      <td>2420</td>\n",
       "      <td>1234</td>\n",
       "    </tr>\n",
       "    <tr>\n",
       "      <th>1</th>\n",
       "      <td>423</td>\n",
       "      <td>27608</td>\n",
       "    </tr>\n",
       "  </tbody>\n",
       "</table>\n",
       "</div>"
      ],
      "text/plain": [
       "col_0      0      1\n",
       "Target             \n",
       "0       2420   1234\n",
       "1        423  27608"
      ]
     },
     "execution_count": 37,
     "metadata": {},
     "output_type": "execute_result"
    }
   ],
   "source": [
    "RFmodel = RandomForestClassifier(n_estimators=150)\n",
    "RFmodel.fit(X_train,y_train)\n",
    "\n",
    "pred_RF = RFmodel.predict(X_test)\n",
    "pd.crosstab(y_test,pred_RF)\n"
   ]
  },
  {
   "cell_type": "code",
   "execution_count": 38,
   "metadata": {},
   "outputs": [
    {
     "name": "stdout",
     "output_type": "stream",
     "text": [
      "              precision    recall  f1-score   support\n",
      "\n",
      "           0       0.85      0.66      0.74      3654\n",
      "           1       0.96      0.98      0.97     28031\n",
      "\n",
      "    accuracy                           0.95     31685\n",
      "   macro avg       0.90      0.82      0.86     31685\n",
      "weighted avg       0.94      0.95      0.94     31685\n",
      "\n"
     ]
    }
   ],
   "source": [
    "print(classification_report(y_test,pred_RF))"
   ]
  },
  {
   "cell_type": "markdown",
   "metadata": {},
   "source": [
    "### AdaBoost 1"
   ]
  },
  {
   "cell_type": "code",
   "execution_count": 39,
   "metadata": {},
   "outputs": [
    {
     "data": {
      "text/html": [
       "<div>\n",
       "<style scoped>\n",
       "    .dataframe tbody tr th:only-of-type {\n",
       "        vertical-align: middle;\n",
       "    }\n",
       "\n",
       "    .dataframe tbody tr th {\n",
       "        vertical-align: top;\n",
       "    }\n",
       "\n",
       "    .dataframe thead th {\n",
       "        text-align: right;\n",
       "    }\n",
       "</style>\n",
       "<table border=\"1\" class=\"dataframe\">\n",
       "  <thead>\n",
       "    <tr style=\"text-align: right;\">\n",
       "      <th>col_0</th>\n",
       "      <th>0</th>\n",
       "      <th>1</th>\n",
       "    </tr>\n",
       "    <tr>\n",
       "      <th>Target</th>\n",
       "      <th></th>\n",
       "      <th></th>\n",
       "    </tr>\n",
       "  </thead>\n",
       "  <tbody>\n",
       "    <tr>\n",
       "      <th>0</th>\n",
       "      <td>993</td>\n",
       "      <td>2661</td>\n",
       "    </tr>\n",
       "    <tr>\n",
       "      <th>1</th>\n",
       "      <td>358</td>\n",
       "      <td>27673</td>\n",
       "    </tr>\n",
       "  </tbody>\n",
       "</table>\n",
       "</div>"
      ],
      "text/plain": [
       "col_0     0      1\n",
       "Target            \n",
       "0       993   2661\n",
       "1       358  27673"
      ]
     },
     "execution_count": 39,
     "metadata": {},
     "output_type": "execute_result"
    }
   ],
   "source": [
    "AdbB_model = AdaBoostClassifier()\n",
    "AdbB_model.fit(X_train,y_train)\n",
    "\n",
    "pred_AdbB = AdbB_model.predict(X_test)\n",
    "pd.crosstab(y_test,pred_AdbB)"
   ]
  },
  {
   "cell_type": "code",
   "execution_count": 40,
   "metadata": {},
   "outputs": [
    {
     "name": "stdout",
     "output_type": "stream",
     "text": [
      "              precision    recall  f1-score   support\n",
      "\n",
      "           0       0.37      0.55      0.44      3654\n",
      "           1       0.94      0.88      0.91     28031\n",
      "\n",
      "    accuracy                           0.84     31685\n",
      "   macro avg       0.65      0.72      0.67     31685\n",
      "weighted avg       0.87      0.84      0.85     31685\n",
      "\n"
     ]
    }
   ],
   "source": [
    "print(classification_report(y_test,pred_knn))"
   ]
  },
  {
   "cell_type": "markdown",
   "metadata": {},
   "source": [
    "# Working data 2\n",
    "### Try another subset (features) of the base data"
   ]
  },
  {
   "cell_type": "code",
   "execution_count": 41,
   "metadata": {},
   "outputs": [
    {
     "data": {
      "text/html": [
       "<div>\n",
       "<style scoped>\n",
       "    .dataframe tbody tr th:only-of-type {\n",
       "        vertical-align: middle;\n",
       "    }\n",
       "\n",
       "    .dataframe tbody tr th {\n",
       "        vertical-align: top;\n",
       "    }\n",
       "\n",
       "    .dataframe thead th {\n",
       "        text-align: right;\n",
       "    }\n",
       "</style>\n",
       "<table border=\"1\" class=\"dataframe\">\n",
       "  <thead>\n",
       "    <tr style=\"text-align: right;\">\n",
       "      <th></th>\n",
       "      <th>nb_items</th>\n",
       "      <th>Total_GROSSWEIGHT</th>\n",
       "      <th>Total_NETWEIGHT</th>\n",
       "      <th>Total_CUSTOMSVALUE</th>\n",
       "      <th>MonthRegistration</th>\n",
       "      <th>Target</th>\n",
       "    </tr>\n",
       "  </thead>\n",
       "  <tbody>\n",
       "    <tr>\n",
       "      <th>0</th>\n",
       "      <td>4</td>\n",
       "      <td>26000</td>\n",
       "      <td>25500</td>\n",
       "      <td>1344572.730</td>\n",
       "      <td>1</td>\n",
       "      <td>1</td>\n",
       "    </tr>\n",
       "    <tr>\n",
       "      <th>1</th>\n",
       "      <td>1</td>\n",
       "      <td>8010</td>\n",
       "      <td>7327</td>\n",
       "      <td>1259081.504</td>\n",
       "      <td>1</td>\n",
       "      <td>1</td>\n",
       "    </tr>\n",
       "    <tr>\n",
       "      <th>2</th>\n",
       "      <td>7</td>\n",
       "      <td>5062</td>\n",
       "      <td>5062</td>\n",
       "      <td>1995675.653</td>\n",
       "      <td>1</td>\n",
       "      <td>1</td>\n",
       "    </tr>\n",
       "    <tr>\n",
       "      <th>3</th>\n",
       "      <td>1</td>\n",
       "      <td>1010</td>\n",
       "      <td>1010</td>\n",
       "      <td>299062.000</td>\n",
       "      <td>1</td>\n",
       "      <td>1</td>\n",
       "    </tr>\n",
       "    <tr>\n",
       "      <th>4</th>\n",
       "      <td>1</td>\n",
       "      <td>48096</td>\n",
       "      <td>48000</td>\n",
       "      <td>883802.708</td>\n",
       "      <td>1</td>\n",
       "      <td>1</td>\n",
       "    </tr>\n",
       "  </tbody>\n",
       "</table>\n",
       "</div>"
      ],
      "text/plain": [
       "   nb_items  Total_GROSSWEIGHT  Total_NETWEIGHT  Total_CUSTOMSVALUE  \\\n",
       "0         4              26000            25500         1344572.730   \n",
       "1         1               8010             7327         1259081.504   \n",
       "2         7               5062             5062         1995675.653   \n",
       "3         1               1010             1010          299062.000   \n",
       "4         1              48096            48000          883802.708   \n",
       "\n",
       "   MonthRegistration  Target  \n",
       "0                  1       1  \n",
       "1                  1       1  \n",
       "2                  1       1  \n",
       "3                  1       1  \n",
       "4                  1       1  "
      ]
     },
     "execution_count": 41,
     "metadata": {},
     "output_type": "execute_result"
    }
   ],
   "source": [
    "six_columns = ['nb_items', 'Total_GROSSWEIGHT', 'Total_NETWEIGHT',\n",
    "                'Total_CUSTOMSVALUE','MonthRegistration','Target']\n",
    "\n",
    "New_dataset2 = CompliantSea4[six_columns]\n",
    "New_dataset2.head()"
   ]
  },
  {
   "cell_type": "code",
   "execution_count": 42,
   "metadata": {},
   "outputs": [
    {
     "data": {
      "text/plain": [
       "(158422, 6)"
      ]
     },
     "execution_count": 42,
     "metadata": {},
     "output_type": "execute_result"
    }
   ],
   "source": [
    "New_dataset2.shape"
   ]
  },
  {
   "cell_type": "markdown",
   "metadata": {},
   "source": [
    "### Train_test split 2"
   ]
  },
  {
   "cell_type": "code",
   "execution_count": 43,
   "metadata": {},
   "outputs": [],
   "source": [
    "X2 = New_dataset2.copy()\n",
    "y2 = X2.pop('Target')\n",
    "\n",
    "X_train2, X_test2, y_train2, y_test2 = train_test_split(X2,y2,train_size = 0.8, stratify  = y,random_state = 6)"
   ]
  },
  {
   "cell_type": "markdown",
   "metadata": {},
   "source": [
    "### Logistic regression 2"
   ]
  },
  {
   "cell_type": "code",
   "execution_count": 44,
   "metadata": {},
   "outputs": [
    {
     "data": {
      "text/html": [
       "<div>\n",
       "<style scoped>\n",
       "    .dataframe tbody tr th:only-of-type {\n",
       "        vertical-align: middle;\n",
       "    }\n",
       "\n",
       "    .dataframe tbody tr th {\n",
       "        vertical-align: top;\n",
       "    }\n",
       "\n",
       "    .dataframe thead th {\n",
       "        text-align: right;\n",
       "    }\n",
       "</style>\n",
       "<table border=\"1\" class=\"dataframe\">\n",
       "  <thead>\n",
       "    <tr style=\"text-align: right;\">\n",
       "      <th>col_0</th>\n",
       "      <th>0</th>\n",
       "      <th>1</th>\n",
       "    </tr>\n",
       "    <tr>\n",
       "      <th>Target</th>\n",
       "      <th></th>\n",
       "      <th></th>\n",
       "    </tr>\n",
       "  </thead>\n",
       "  <tbody>\n",
       "    <tr>\n",
       "      <th>0</th>\n",
       "      <td>12</td>\n",
       "      <td>3642</td>\n",
       "    </tr>\n",
       "    <tr>\n",
       "      <th>1</th>\n",
       "      <td>47</td>\n",
       "      <td>27984</td>\n",
       "    </tr>\n",
       "  </tbody>\n",
       "</table>\n",
       "</div>"
      ],
      "text/plain": [
       "col_0    0      1\n",
       "Target           \n",
       "0       12   3642\n",
       "1       47  27984"
      ]
     },
     "execution_count": 44,
     "metadata": {},
     "output_type": "execute_result"
    }
   ],
   "source": [
    "LModel2 = LogisticRegression()\n",
    "LModel2.fit(X_train2,y_train2)\n",
    "\n",
    "pred2 = LModel2.predict(X_test2)\n",
    "pd.crosstab(y_test2,pred2)"
   ]
  },
  {
   "cell_type": "code",
   "execution_count": 45,
   "metadata": {},
   "outputs": [
    {
     "name": "stdout",
     "output_type": "stream",
     "text": [
      "              precision    recall  f1-score   support\n",
      "\n",
      "           0       0.20      0.00      0.01      3654\n",
      "           1       0.88      1.00      0.94     28031\n",
      "\n",
      "    accuracy                           0.88     31685\n",
      "   macro avg       0.54      0.50      0.47     31685\n",
      "weighted avg       0.81      0.88      0.83     31685\n",
      "\n"
     ]
    }
   ],
   "source": [
    "print(classification_report(y_test2,pred2))"
   ]
  },
  {
   "cell_type": "markdown",
   "metadata": {},
   "source": [
    "### Decision Tree 2\n"
   ]
  },
  {
   "cell_type": "code",
   "execution_count": 46,
   "metadata": {},
   "outputs": [
    {
     "data": {
      "text/html": [
       "<div>\n",
       "<style scoped>\n",
       "    .dataframe tbody tr th:only-of-type {\n",
       "        vertical-align: middle;\n",
       "    }\n",
       "\n",
       "    .dataframe tbody tr th {\n",
       "        vertical-align: top;\n",
       "    }\n",
       "\n",
       "    .dataframe thead th {\n",
       "        text-align: right;\n",
       "    }\n",
       "</style>\n",
       "<table border=\"1\" class=\"dataframe\">\n",
       "  <thead>\n",
       "    <tr style=\"text-align: right;\">\n",
       "      <th>col_0</th>\n",
       "      <th>0</th>\n",
       "      <th>1</th>\n",
       "    </tr>\n",
       "    <tr>\n",
       "      <th>Target</th>\n",
       "      <th></th>\n",
       "      <th></th>\n",
       "    </tr>\n",
       "  </thead>\n",
       "  <tbody>\n",
       "    <tr>\n",
       "      <th>0</th>\n",
       "      <td>2313</td>\n",
       "      <td>1341</td>\n",
       "    </tr>\n",
       "    <tr>\n",
       "      <th>1</th>\n",
       "      <td>1544</td>\n",
       "      <td>26487</td>\n",
       "    </tr>\n",
       "  </tbody>\n",
       "</table>\n",
       "</div>"
      ],
      "text/plain": [
       "col_0      0      1\n",
       "Target             \n",
       "0       2313   1341\n",
       "1       1544  26487"
      ]
     },
     "execution_count": 46,
     "metadata": {},
     "output_type": "execute_result"
    }
   ],
   "source": [
    "D_tree2 = DecisionTreeClassifier()\n",
    "D_tree2.fit(X_train2,y_train2)\n",
    "\n",
    "pred_D_tree2 = D_tree2.predict(X_test2)\n",
    "pd.crosstab(y_test2,pred_D_tree2)\n"
   ]
  },
  {
   "cell_type": "code",
   "execution_count": 47,
   "metadata": {},
   "outputs": [
    {
     "name": "stdout",
     "output_type": "stream",
     "text": [
      "              precision    recall  f1-score   support\n",
      "\n",
      "           0       0.60      0.63      0.62      3654\n",
      "           1       0.95      0.94      0.95     28031\n",
      "\n",
      "    accuracy                           0.91     31685\n",
      "   macro avg       0.78      0.79      0.78     31685\n",
      "weighted avg       0.91      0.91      0.91     31685\n",
      "\n"
     ]
    }
   ],
   "source": [
    "print(classification_report(y_test2,pred_D_tree2))"
   ]
  },
  {
   "cell_type": "markdown",
   "metadata": {},
   "source": [
    "### KNN 2"
   ]
  },
  {
   "cell_type": "code",
   "execution_count": 48,
   "metadata": {},
   "outputs": [
    {
     "data": {
      "text/html": [
       "<div>\n",
       "<style scoped>\n",
       "    .dataframe tbody tr th:only-of-type {\n",
       "        vertical-align: middle;\n",
       "    }\n",
       "\n",
       "    .dataframe tbody tr th {\n",
       "        vertical-align: top;\n",
       "    }\n",
       "\n",
       "    .dataframe thead th {\n",
       "        text-align: right;\n",
       "    }\n",
       "</style>\n",
       "<table border=\"1\" class=\"dataframe\">\n",
       "  <thead>\n",
       "    <tr style=\"text-align: right;\">\n",
       "      <th>col_0</th>\n",
       "      <th>0</th>\n",
       "      <th>1</th>\n",
       "    </tr>\n",
       "    <tr>\n",
       "      <th>Target</th>\n",
       "      <th></th>\n",
       "      <th></th>\n",
       "    </tr>\n",
       "  </thead>\n",
       "  <tbody>\n",
       "    <tr>\n",
       "      <th>0</th>\n",
       "      <td>1930</td>\n",
       "      <td>1724</td>\n",
       "    </tr>\n",
       "    <tr>\n",
       "      <th>1</th>\n",
       "      <td>3788</td>\n",
       "      <td>24243</td>\n",
       "    </tr>\n",
       "  </tbody>\n",
       "</table>\n",
       "</div>"
      ],
      "text/plain": [
       "col_0      0      1\n",
       "Target             \n",
       "0       1930   1724\n",
       "1       3788  24243"
      ]
     },
     "execution_count": 48,
     "metadata": {},
     "output_type": "execute_result"
    }
   ],
   "source": [
    "knn2 = KNeighborsClassifier(n_neighbors=2)\n",
    "knn2.fit(X_train2,y_train2)\n",
    "\n",
    "pred_knn2 = knn2.predict(X_test2)\n",
    "pd.crosstab(y_test2,pred_knn2)"
   ]
  },
  {
   "cell_type": "code",
   "execution_count": 49,
   "metadata": {},
   "outputs": [
    {
     "name": "stdout",
     "output_type": "stream",
     "text": [
      "              precision    recall  f1-score   support\n",
      "\n",
      "           0       0.34      0.53      0.41      3654\n",
      "           1       0.93      0.86      0.90     28031\n",
      "\n",
      "    accuracy                           0.83     31685\n",
      "   macro avg       0.64      0.70      0.65     31685\n",
      "weighted avg       0.86      0.83      0.84     31685\n",
      "\n"
     ]
    }
   ],
   "source": [
    "print(classification_report(y_test2,pred_knn2))"
   ]
  },
  {
   "cell_type": "markdown",
   "metadata": {},
   "source": [
    "### Random Forest 2"
   ]
  },
  {
   "cell_type": "code",
   "execution_count": 50,
   "metadata": {},
   "outputs": [
    {
     "data": {
      "text/html": [
       "<div>\n",
       "<style scoped>\n",
       "    .dataframe tbody tr th:only-of-type {\n",
       "        vertical-align: middle;\n",
       "    }\n",
       "\n",
       "    .dataframe tbody tr th {\n",
       "        vertical-align: top;\n",
       "    }\n",
       "\n",
       "    .dataframe thead th {\n",
       "        text-align: right;\n",
       "    }\n",
       "</style>\n",
       "<table border=\"1\" class=\"dataframe\">\n",
       "  <thead>\n",
       "    <tr style=\"text-align: right;\">\n",
       "      <th>col_0</th>\n",
       "      <th>0</th>\n",
       "      <th>1</th>\n",
       "    </tr>\n",
       "    <tr>\n",
       "      <th>Target</th>\n",
       "      <th></th>\n",
       "      <th></th>\n",
       "    </tr>\n",
       "  </thead>\n",
       "  <tbody>\n",
       "    <tr>\n",
       "      <th>0</th>\n",
       "      <td>2281</td>\n",
       "      <td>1373</td>\n",
       "    </tr>\n",
       "    <tr>\n",
       "      <th>1</th>\n",
       "      <td>533</td>\n",
       "      <td>27498</td>\n",
       "    </tr>\n",
       "  </tbody>\n",
       "</table>\n",
       "</div>"
      ],
      "text/plain": [
       "col_0      0      1\n",
       "Target             \n",
       "0       2281   1373\n",
       "1        533  27498"
      ]
     },
     "execution_count": 50,
     "metadata": {},
     "output_type": "execute_result"
    }
   ],
   "source": [
    "RFmodel2 = RandomForestClassifier(n_estimators=150)\n",
    "RFmodel2.fit(X_train2,y_train2)\n",
    "\n",
    "pred_RF2 = RFmodel2.predict(X_test2)\n",
    "pd.crosstab(y_test2,pred_RF2)"
   ]
  },
  {
   "cell_type": "code",
   "execution_count": 51,
   "metadata": {},
   "outputs": [
    {
     "name": "stdout",
     "output_type": "stream",
     "text": [
      "              precision    recall  f1-score   support\n",
      "\n",
      "           0       0.81      0.62      0.71      3654\n",
      "           1       0.95      0.98      0.97     28031\n",
      "\n",
      "    accuracy                           0.94     31685\n",
      "   macro avg       0.88      0.80      0.84     31685\n",
      "weighted avg       0.94      0.94      0.94     31685\n",
      "\n"
     ]
    }
   ],
   "source": [
    "print(classification_report(y_test2,pred_RF2))"
   ]
  },
  {
   "cell_type": "markdown",
   "metadata": {},
   "source": [
    "### AdaBoost 2"
   ]
  },
  {
   "cell_type": "code",
   "execution_count": 52,
   "metadata": {},
   "outputs": [
    {
     "data": {
      "text/html": [
       "<div>\n",
       "<style scoped>\n",
       "    .dataframe tbody tr th:only-of-type {\n",
       "        vertical-align: middle;\n",
       "    }\n",
       "\n",
       "    .dataframe tbody tr th {\n",
       "        vertical-align: top;\n",
       "    }\n",
       "\n",
       "    .dataframe thead th {\n",
       "        text-align: right;\n",
       "    }\n",
       "</style>\n",
       "<table border=\"1\" class=\"dataframe\">\n",
       "  <thead>\n",
       "    <tr style=\"text-align: right;\">\n",
       "      <th>col_0</th>\n",
       "      <th>0</th>\n",
       "      <th>1</th>\n",
       "    </tr>\n",
       "    <tr>\n",
       "      <th>Target</th>\n",
       "      <th></th>\n",
       "      <th></th>\n",
       "    </tr>\n",
       "  </thead>\n",
       "  <tbody>\n",
       "    <tr>\n",
       "      <th>0</th>\n",
       "      <td>881</td>\n",
       "      <td>2773</td>\n",
       "    </tr>\n",
       "    <tr>\n",
       "      <th>1</th>\n",
       "      <td>346</td>\n",
       "      <td>27685</td>\n",
       "    </tr>\n",
       "  </tbody>\n",
       "</table>\n",
       "</div>"
      ],
      "text/plain": [
       "col_0     0      1\n",
       "Target            \n",
       "0       881   2773\n",
       "1       346  27685"
      ]
     },
     "execution_count": 52,
     "metadata": {},
     "output_type": "execute_result"
    }
   ],
   "source": [
    "AdbB_model2 = AdaBoostClassifier()\n",
    "AdbB_model2.fit(X_train2,y_train2)\n",
    "\n",
    "pred_AdbB2 = AdbB_model2.predict(X_test2)\n",
    "pd.crosstab(y_test2,pred_AdbB2)"
   ]
  },
  {
   "cell_type": "code",
   "execution_count": 53,
   "metadata": {},
   "outputs": [
    {
     "name": "stdout",
     "output_type": "stream",
     "text": [
      "              precision    recall  f1-score   support\n",
      "\n",
      "           0       0.72      0.24      0.36      3654\n",
      "           1       0.91      0.99      0.95     28031\n",
      "\n",
      "    accuracy                           0.90     31685\n",
      "   macro avg       0.81      0.61      0.65     31685\n",
      "weighted avg       0.89      0.90      0.88     31685\n",
      "\n"
     ]
    }
   ],
   "source": [
    "print(classification_report(y_test2,pred_AdbB2))"
   ]
  },
  {
   "cell_type": "markdown",
   "metadata": {},
   "source": [
    "## Working data 3\n",
    "### Try another combination of features"
   ]
  },
  {
   "cell_type": "code",
   "execution_count": 54,
   "metadata": {},
   "outputs": [
    {
     "data": {
      "text/html": [
       "<div>\n",
       "<style scoped>\n",
       "    .dataframe tbody tr th:only-of-type {\n",
       "        vertical-align: middle;\n",
       "    }\n",
       "\n",
       "    .dataframe tbody tr th {\n",
       "        vertical-align: top;\n",
       "    }\n",
       "\n",
       "    .dataframe thead th {\n",
       "        text-align: right;\n",
       "    }\n",
       "</style>\n",
       "<table border=\"1\" class=\"dataframe\">\n",
       "  <thead>\n",
       "    <tr style=\"text-align: right;\">\n",
       "      <th></th>\n",
       "      <th>HSCODE</th>\n",
       "      <th>nb_items</th>\n",
       "      <th>Total_GROSSWEIGHT</th>\n",
       "      <th>Total_NETWEIGHT</th>\n",
       "      <th>Total_QUANTITY</th>\n",
       "      <th>Total_CUSTOMSVALUE</th>\n",
       "      <th>DurationRegToPas</th>\n",
       "      <th>MonthRegistration</th>\n",
       "      <th>DayRegistration</th>\n",
       "      <th>Target</th>\n",
       "    </tr>\n",
       "  </thead>\n",
       "  <tbody>\n",
       "    <tr>\n",
       "      <th>0</th>\n",
       "      <td>70</td>\n",
       "      <td>4</td>\n",
       "      <td>26000</td>\n",
       "      <td>25500</td>\n",
       "      <td>2592</td>\n",
       "      <td>1344572.730</td>\n",
       "      <td>2</td>\n",
       "      <td>1</td>\n",
       "      <td>7</td>\n",
       "      <td>1</td>\n",
       "    </tr>\n",
       "    <tr>\n",
       "      <th>1</th>\n",
       "      <td>27</td>\n",
       "      <td>1</td>\n",
       "      <td>8010</td>\n",
       "      <td>7327</td>\n",
       "      <td>8190</td>\n",
       "      <td>1259081.504</td>\n",
       "      <td>9</td>\n",
       "      <td>1</td>\n",
       "      <td>1</td>\n",
       "      <td>1</td>\n",
       "    </tr>\n",
       "    <tr>\n",
       "      <th>2</th>\n",
       "      <td>73</td>\n",
       "      <td>7</td>\n",
       "      <td>5062</td>\n",
       "      <td>5062</td>\n",
       "      <td>5867</td>\n",
       "      <td>1995675.653</td>\n",
       "      <td>2</td>\n",
       "      <td>1</td>\n",
       "      <td>1</td>\n",
       "      <td>1</td>\n",
       "    </tr>\n",
       "    <tr>\n",
       "      <th>3</th>\n",
       "      <td>87</td>\n",
       "      <td>1</td>\n",
       "      <td>1010</td>\n",
       "      <td>1010</td>\n",
       "      <td>1</td>\n",
       "      <td>299062.000</td>\n",
       "      <td>1</td>\n",
       "      <td>1</td>\n",
       "      <td>1</td>\n",
       "      <td>1</td>\n",
       "    </tr>\n",
       "    <tr>\n",
       "      <th>4</th>\n",
       "      <td>31</td>\n",
       "      <td>1</td>\n",
       "      <td>48096</td>\n",
       "      <td>48000</td>\n",
       "      <td>48000</td>\n",
       "      <td>883802.708</td>\n",
       "      <td>3</td>\n",
       "      <td>1</td>\n",
       "      <td>1</td>\n",
       "      <td>1</td>\n",
       "    </tr>\n",
       "  </tbody>\n",
       "</table>\n",
       "</div>"
      ],
      "text/plain": [
       "  HSCODE  nb_items  Total_GROSSWEIGHT  Total_NETWEIGHT  Total_QUANTITY  \\\n",
       "0     70         4              26000            25500            2592   \n",
       "1     27         1               8010             7327            8190   \n",
       "2     73         7               5062             5062            5867   \n",
       "3     87         1               1010             1010               1   \n",
       "4     31         1              48096            48000           48000   \n",
       "\n",
       "   Total_CUSTOMSVALUE  DurationRegToPas  MonthRegistration  DayRegistration  \\\n",
       "0         1344572.730                 2                  1                7   \n",
       "1         1259081.504                 9                  1                1   \n",
       "2         1995675.653                 2                  1                1   \n",
       "3          299062.000                 1                  1                1   \n",
       "4          883802.708                 3                  1                1   \n",
       "\n",
       "   Target  \n",
       "0       1  \n",
       "1       1  \n",
       "2       1  \n",
       "3       1  \n",
       "4       1  "
      ]
     },
     "execution_count": 54,
     "metadata": {},
     "output_type": "execute_result"
    }
   ],
   "source": [
    "New_dataset3 = CompliantSea4[['HSCODE', 'nb_items', 'Total_GROSSWEIGHT', 'Total_NETWEIGHT',\n",
    "                               'Total_QUANTITY', 'Total_CUSTOMSVALUE', 'DurationRegToPas',\n",
    "                               'MonthRegistration', 'DayRegistration', 'Target']]\n",
    "\n",
    "New_dataset3.head()"
   ]
  },
  {
   "cell_type": "markdown",
   "metadata": {},
   "source": [
    "### Train-test split 3"
   ]
  },
  {
   "cell_type": "code",
   "execution_count": 55,
   "metadata": {},
   "outputs": [],
   "source": [
    "X3 = New_dataset3.copy()\n",
    "y3 = X3.pop('Target')\n",
    "\n",
    "X_train3, X_test3, y_train3, y_test3 = train_test_split(X3, y3, train_size = 0.8, stratify  = y3, random_state = 6)"
   ]
  },
  {
   "cell_type": "markdown",
   "metadata": {},
   "source": [
    "\n",
    "### Logistic regression 3"
   ]
  },
  {
   "cell_type": "code",
   "execution_count": 56,
   "metadata": {},
   "outputs": [
    {
     "data": {
      "text/html": [
       "<div>\n",
       "<style scoped>\n",
       "    .dataframe tbody tr th:only-of-type {\n",
       "        vertical-align: middle;\n",
       "    }\n",
       "\n",
       "    .dataframe tbody tr th {\n",
       "        vertical-align: top;\n",
       "    }\n",
       "\n",
       "    .dataframe thead th {\n",
       "        text-align: right;\n",
       "    }\n",
       "</style>\n",
       "<table border=\"1\" class=\"dataframe\">\n",
       "  <thead>\n",
       "    <tr style=\"text-align: right;\">\n",
       "      <th>col_0</th>\n",
       "      <th>0</th>\n",
       "      <th>1</th>\n",
       "    </tr>\n",
       "    <tr>\n",
       "      <th>Target</th>\n",
       "      <th></th>\n",
       "      <th></th>\n",
       "    </tr>\n",
       "  </thead>\n",
       "  <tbody>\n",
       "    <tr>\n",
       "      <th>0</th>\n",
       "      <td>75</td>\n",
       "      <td>3579</td>\n",
       "    </tr>\n",
       "    <tr>\n",
       "      <th>1</th>\n",
       "      <td>365</td>\n",
       "      <td>27666</td>\n",
       "    </tr>\n",
       "  </tbody>\n",
       "</table>\n",
       "</div>"
      ],
      "text/plain": [
       "col_0     0      1\n",
       "Target            \n",
       "0        75   3579\n",
       "1       365  27666"
      ]
     },
     "execution_count": 56,
     "metadata": {},
     "output_type": "execute_result"
    }
   ],
   "source": [
    "LModel3 = LogisticRegression()\n",
    "LModel3.fit(X_train3,y_train3)\n",
    "\n",
    "pred3 = LModel3.predict(X_test3)\n",
    "pd.crosstab(y_test3,pred3)"
   ]
  },
  {
   "cell_type": "code",
   "execution_count": 57,
   "metadata": {},
   "outputs": [
    {
     "name": "stdout",
     "output_type": "stream",
     "text": [
      "              precision    recall  f1-score   support\n",
      "\n",
      "           0       0.17      0.02      0.04      3654\n",
      "           1       0.89      0.99      0.93     28031\n",
      "\n",
      "    accuracy                           0.88     31685\n",
      "   macro avg       0.53      0.50      0.49     31685\n",
      "weighted avg       0.80      0.88      0.83     31685\n",
      "\n"
     ]
    }
   ],
   "source": [
    "print(classification_report(y_test3,pred3))"
   ]
  },
  {
   "cell_type": "markdown",
   "metadata": {},
   "source": [
    "### Decision Tree 3"
   ]
  },
  {
   "cell_type": "code",
   "execution_count": 58,
   "metadata": {},
   "outputs": [
    {
     "data": {
      "text/html": [
       "<div>\n",
       "<style scoped>\n",
       "    .dataframe tbody tr th:only-of-type {\n",
       "        vertical-align: middle;\n",
       "    }\n",
       "\n",
       "    .dataframe tbody tr th {\n",
       "        vertical-align: top;\n",
       "    }\n",
       "\n",
       "    .dataframe thead th {\n",
       "        text-align: right;\n",
       "    }\n",
       "</style>\n",
       "<table border=\"1\" class=\"dataframe\">\n",
       "  <thead>\n",
       "    <tr style=\"text-align: right;\">\n",
       "      <th>col_0</th>\n",
       "      <th>0</th>\n",
       "      <th>1</th>\n",
       "    </tr>\n",
       "    <tr>\n",
       "      <th>Target</th>\n",
       "      <th></th>\n",
       "      <th></th>\n",
       "    </tr>\n",
       "  </thead>\n",
       "  <tbody>\n",
       "    <tr>\n",
       "      <th>0</th>\n",
       "      <td>2629</td>\n",
       "      <td>1025</td>\n",
       "    </tr>\n",
       "    <tr>\n",
       "      <th>1</th>\n",
       "      <td>1185</td>\n",
       "      <td>26846</td>\n",
       "    </tr>\n",
       "  </tbody>\n",
       "</table>\n",
       "</div>"
      ],
      "text/plain": [
       "col_0      0      1\n",
       "Target             \n",
       "0       2629   1025\n",
       "1       1185  26846"
      ]
     },
     "execution_count": 58,
     "metadata": {},
     "output_type": "execute_result"
    }
   ],
   "source": [
    "D_tree3 = DecisionTreeClassifier()\n",
    "D_tree3.fit(X_train3,y_train3)\n",
    "\n",
    "pred_D_tree3 = D_tree3.predict(X_test3)\n",
    "pd.crosstab(y_test3,pred_D_tree3)"
   ]
  },
  {
   "cell_type": "code",
   "execution_count": 59,
   "metadata": {},
   "outputs": [
    {
     "name": "stdout",
     "output_type": "stream",
     "text": [
      "              precision    recall  f1-score   support\n",
      "\n",
      "           0       0.69      0.72      0.70      3654\n",
      "           1       0.96      0.96      0.96     28031\n",
      "\n",
      "    accuracy                           0.93     31685\n",
      "   macro avg       0.83      0.84      0.83     31685\n",
      "weighted avg       0.93      0.93      0.93     31685\n",
      "\n"
     ]
    }
   ],
   "source": [
    "print(classification_report(y_test3,pred_D_tree3))"
   ]
  },
  {
   "cell_type": "markdown",
   "metadata": {},
   "source": [
    "### KNN 3"
   ]
  },
  {
   "cell_type": "code",
   "execution_count": 60,
   "metadata": {},
   "outputs": [
    {
     "data": {
      "text/html": [
       "<div>\n",
       "<style scoped>\n",
       "    .dataframe tbody tr th:only-of-type {\n",
       "        vertical-align: middle;\n",
       "    }\n",
       "\n",
       "    .dataframe tbody tr th {\n",
       "        vertical-align: top;\n",
       "    }\n",
       "\n",
       "    .dataframe thead th {\n",
       "        text-align: right;\n",
       "    }\n",
       "</style>\n",
       "<table border=\"1\" class=\"dataframe\">\n",
       "  <thead>\n",
       "    <tr style=\"text-align: right;\">\n",
       "      <th>col_0</th>\n",
       "      <th>0</th>\n",
       "      <th>1</th>\n",
       "    </tr>\n",
       "    <tr>\n",
       "      <th>Target</th>\n",
       "      <th></th>\n",
       "      <th></th>\n",
       "    </tr>\n",
       "  </thead>\n",
       "  <tbody>\n",
       "    <tr>\n",
       "      <th>0</th>\n",
       "      <td>2040</td>\n",
       "      <td>1614</td>\n",
       "    </tr>\n",
       "    <tr>\n",
       "      <th>1</th>\n",
       "      <td>3423</td>\n",
       "      <td>24608</td>\n",
       "    </tr>\n",
       "  </tbody>\n",
       "</table>\n",
       "</div>"
      ],
      "text/plain": [
       "col_0      0      1\n",
       "Target             \n",
       "0       2040   1614\n",
       "1       3423  24608"
      ]
     },
     "execution_count": 60,
     "metadata": {},
     "output_type": "execute_result"
    }
   ],
   "source": [
    "knn3 = KNeighborsClassifier(n_neighbors=2)\n",
    "knn3.fit(X_train3,y_train3)\n",
    "\n",
    "pred_knn3 = knn3.predict(X_test3)\n",
    "pd.crosstab(y_test3,pred_knn3)\n"
   ]
  },
  {
   "cell_type": "code",
   "execution_count": 61,
   "metadata": {},
   "outputs": [
    {
     "name": "stdout",
     "output_type": "stream",
     "text": [
      "              precision    recall  f1-score   support\n",
      "\n",
      "           0       0.37      0.56      0.45      3654\n",
      "           1       0.94      0.88      0.91     28031\n",
      "\n",
      "    accuracy                           0.84     31685\n",
      "   macro avg       0.66      0.72      0.68     31685\n",
      "weighted avg       0.87      0.84      0.85     31685\n",
      "\n"
     ]
    }
   ],
   "source": [
    "print(classification_report(y_test3,pred_knn3))"
   ]
  },
  {
   "cell_type": "markdown",
   "metadata": {},
   "source": [
    "### Random Forest 3"
   ]
  },
  {
   "cell_type": "code",
   "execution_count": 62,
   "metadata": {},
   "outputs": [
    {
     "data": {
      "text/html": [
       "<div>\n",
       "<style scoped>\n",
       "    .dataframe tbody tr th:only-of-type {\n",
       "        vertical-align: middle;\n",
       "    }\n",
       "\n",
       "    .dataframe tbody tr th {\n",
       "        vertical-align: top;\n",
       "    }\n",
       "\n",
       "    .dataframe thead th {\n",
       "        text-align: right;\n",
       "    }\n",
       "</style>\n",
       "<table border=\"1\" class=\"dataframe\">\n",
       "  <thead>\n",
       "    <tr style=\"text-align: right;\">\n",
       "      <th>col_0</th>\n",
       "      <th>0</th>\n",
       "      <th>1</th>\n",
       "    </tr>\n",
       "    <tr>\n",
       "      <th>Target</th>\n",
       "      <th></th>\n",
       "      <th></th>\n",
       "    </tr>\n",
       "  </thead>\n",
       "  <tbody>\n",
       "    <tr>\n",
       "      <th>0</th>\n",
       "      <td>2628</td>\n",
       "      <td>1026</td>\n",
       "    </tr>\n",
       "    <tr>\n",
       "      <th>1</th>\n",
       "      <td>324</td>\n",
       "      <td>27707</td>\n",
       "    </tr>\n",
       "  </tbody>\n",
       "</table>\n",
       "</div>"
      ],
      "text/plain": [
       "col_0      0      1\n",
       "Target             \n",
       "0       2628   1026\n",
       "1        324  27707"
      ]
     },
     "execution_count": 62,
     "metadata": {},
     "output_type": "execute_result"
    }
   ],
   "source": [
    "RFmodel3 = RandomForestClassifier(n_estimators=150)\n",
    "RFmodel3.fit(X_train3,y_train3)\n",
    "\n",
    "pred_RF3 = RFmodel3.predict(X_test3)\n",
    "pd.crosstab(y_test3,pred_RF3)"
   ]
  },
  {
   "cell_type": "code",
   "execution_count": 63,
   "metadata": {},
   "outputs": [
    {
     "name": "stdout",
     "output_type": "stream",
     "text": [
      "              precision    recall  f1-score   support\n",
      "\n",
      "           0       0.89      0.72      0.80      3654\n",
      "           1       0.96      0.99      0.98     28031\n",
      "\n",
      "    accuracy                           0.96     31685\n",
      "   macro avg       0.93      0.85      0.89     31685\n",
      "weighted avg       0.96      0.96      0.96     31685\n",
      "\n"
     ]
    }
   ],
   "source": [
    "print(classification_report(y_test3,pred_RF3))"
   ]
  },
  {
   "cell_type": "markdown",
   "metadata": {},
   "source": [
    "### AdaBoost 3"
   ]
  },
  {
   "cell_type": "code",
   "execution_count": 64,
   "metadata": {},
   "outputs": [
    {
     "data": {
      "text/html": [
       "<div>\n",
       "<style scoped>\n",
       "    .dataframe tbody tr th:only-of-type {\n",
       "        vertical-align: middle;\n",
       "    }\n",
       "\n",
       "    .dataframe tbody tr th {\n",
       "        vertical-align: top;\n",
       "    }\n",
       "\n",
       "    .dataframe thead th {\n",
       "        text-align: right;\n",
       "    }\n",
       "</style>\n",
       "<table border=\"1\" class=\"dataframe\">\n",
       "  <thead>\n",
       "    <tr style=\"text-align: right;\">\n",
       "      <th>col_0</th>\n",
       "      <th>0</th>\n",
       "      <th>1</th>\n",
       "    </tr>\n",
       "    <tr>\n",
       "      <th>Target</th>\n",
       "      <th></th>\n",
       "      <th></th>\n",
       "    </tr>\n",
       "  </thead>\n",
       "  <tbody>\n",
       "    <tr>\n",
       "      <th>0</th>\n",
       "      <td>1366</td>\n",
       "      <td>2288</td>\n",
       "    </tr>\n",
       "    <tr>\n",
       "      <th>1</th>\n",
       "      <td>358</td>\n",
       "      <td>27673</td>\n",
       "    </tr>\n",
       "  </tbody>\n",
       "</table>\n",
       "</div>"
      ],
      "text/plain": [
       "col_0      0      1\n",
       "Target             \n",
       "0       1366   2288\n",
       "1        358  27673"
      ]
     },
     "execution_count": 64,
     "metadata": {},
     "output_type": "execute_result"
    }
   ],
   "source": [
    "AdbB_model3 = AdaBoostClassifier()\n",
    "AdbB_model3.fit(X_train3,y_train3)\n",
    "\n",
    "pred_AdbB3 = AdbB_model3.predict(X_test3)\n",
    "pd.crosstab(y_test3,pred_AdbB3)"
   ]
  },
  {
   "cell_type": "code",
   "execution_count": 65,
   "metadata": {},
   "outputs": [
    {
     "name": "stdout",
     "output_type": "stream",
     "text": [
      "              precision    recall  f1-score   support\n",
      "\n",
      "           0       0.37      0.56      0.45      3654\n",
      "           1       0.94      0.88      0.91     28031\n",
      "\n",
      "    accuracy                           0.84     31685\n",
      "   macro avg       0.66      0.72      0.68     31685\n",
      "weighted avg       0.87      0.84      0.85     31685\n",
      "\n"
     ]
    }
   ],
   "source": [
    "print(classification_report(y_test3,pred_knn3))"
   ]
  },
  {
   "cell_type": "markdown",
   "metadata": {},
   "source": [
    "# Balance the dataset (Random Oversampling)"
   ]
  },
  {
   "cell_type": "code",
   "execution_count": 66,
   "metadata": {},
   "outputs": [
    {
     "data": {
      "image/png": "[encoded data removed]",
      "text/plain": [
       "<Figure size 648x288 with 2 Axes>"
      ]
     },
     "metadata": {
      "needs_background": "light"
     },
     "output_type": "display_data"
    }
   ],
   "source": [
    "X3 = New_dataset3.copy()\n",
    "y3 = X3.pop('Target')\n",
    "\n",
    "\n",
    "# Instantiate RandomOverSampler\n",
    "random_sampler = RandomOverSampler(sampling_strategy = 0.90)\n",
    "\n",
    "# Fitting\n",
    "random_x, random_y = random_sampler.fit_sample(X3,y3)\n",
    "\n",
    "fig,axes = plt.subplots(1,2,figsize = (9,4))\n",
    "fig.suptitle('data sampling', fontsize = 20)\n",
    "\n",
    "sn.countplot(y3,ax=axes[0])\n",
    "sn.countplot(random_y,ax=axes[1])\n",
    "\n",
    "axes[0].title.set_text('ORIGINAL SAMPLE (Before)')\n",
    "axes[1].title.set_text('RANDOM OVERSAMPLING (After)')\n",
    "\n",
    "fig.tight_layout(pad = 2)"
   ]
  },
  {
   "cell_type": "markdown",
   "metadata": {},
   "source": [
    "##  Train-test split (random oversampling)"
   ]
  },
  {
   "cell_type": "code",
   "execution_count": 67,
   "metadata": {},
   "outputs": [],
   "source": [
    "#split\n",
    "X_train_R, X_test_R, y_train_R, y_test_R =\\\n",
    "train_test_split(random_x, random_y, train_size = 0.8, stratify  = random_y,random_state = 6)"
   ]
  },
  {
   "cell_type": "markdown",
   "metadata": {},
   "source": [
    "### Logistic Regression (random oversampling)"
   ]
  },
  {
   "cell_type": "code",
   "execution_count": 68,
   "metadata": {},
   "outputs": [
    {
     "data": {
      "text/html": [
       "<div>\n",
       "<style scoped>\n",
       "    .dataframe tbody tr th:only-of-type {\n",
       "        vertical-align: middle;\n",
       "    }\n",
       "\n",
       "    .dataframe tbody tr th {\n",
       "        vertical-align: top;\n",
       "    }\n",
       "\n",
       "    .dataframe thead th {\n",
       "        text-align: right;\n",
       "    }\n",
       "</style>\n",
       "<table border=\"1\" class=\"dataframe\">\n",
       "  <thead>\n",
       "    <tr style=\"text-align: right;\">\n",
       "      <th>col_0</th>\n",
       "      <th>0</th>\n",
       "      <th>1</th>\n",
       "    </tr>\n",
       "    <tr>\n",
       "      <th>Target</th>\n",
       "      <th></th>\n",
       "      <th></th>\n",
       "    </tr>\n",
       "  </thead>\n",
       "  <tbody>\n",
       "    <tr>\n",
       "      <th>0</th>\n",
       "      <td>23746</td>\n",
       "      <td>1481</td>\n",
       "    </tr>\n",
       "    <tr>\n",
       "      <th>1</th>\n",
       "      <td>24815</td>\n",
       "      <td>3216</td>\n",
       "    </tr>\n",
       "  </tbody>\n",
       "</table>\n",
       "</div>"
      ],
      "text/plain": [
       "col_0       0     1\n",
       "Target             \n",
       "0       23746  1481\n",
       "1       24815  3216"
      ]
     },
     "execution_count": 68,
     "metadata": {},
     "output_type": "execute_result"
    }
   ],
   "source": [
    "LModel = LogisticRegression()\n",
    "LModel.fit(X_train_R,y_train_R)\n",
    "\n",
    "pred_R = LModel.predict(X_test_R)\n",
    "pd.crosstab(y_test_R,pred_R)"
   ]
  },
  {
   "cell_type": "code",
   "execution_count": 69,
   "metadata": {},
   "outputs": [
    {
     "name": "stdout",
     "output_type": "stream",
     "text": [
      "              precision    recall  f1-score   support\n",
      "\n",
      "           0       0.49      0.94      0.64     25227\n",
      "           1       0.68      0.11      0.20     28031\n",
      "\n",
      "    accuracy                           0.51     53258\n",
      "   macro avg       0.59      0.53      0.42     53258\n",
      "weighted avg       0.59      0.51      0.41     53258\n",
      "\n"
     ]
    }
   ],
   "source": [
    "print(classification_report(y_test_R,pred_R))"
   ]
  },
  {
   "cell_type": "markdown",
   "metadata": {},
   "source": [
    "### Decision Trees (random oversampling)"
   ]
  },
  {
   "cell_type": "code",
   "execution_count": 70,
   "metadata": {},
   "outputs": [
    {
     "data": {
      "text/html": [
       "<div>\n",
       "<style scoped>\n",
       "    .dataframe tbody tr th:only-of-type {\n",
       "        vertical-align: middle;\n",
       "    }\n",
       "\n",
       "    .dataframe tbody tr th {\n",
       "        vertical-align: top;\n",
       "    }\n",
       "\n",
       "    .dataframe thead th {\n",
       "        text-align: right;\n",
       "    }\n",
       "</style>\n",
       "<table border=\"1\" class=\"dataframe\">\n",
       "  <thead>\n",
       "    <tr style=\"text-align: right;\">\n",
       "      <th>col_0</th>\n",
       "      <th>0</th>\n",
       "      <th>1</th>\n",
       "    </tr>\n",
       "    <tr>\n",
       "      <th>Target</th>\n",
       "      <th></th>\n",
       "      <th></th>\n",
       "    </tr>\n",
       "  </thead>\n",
       "  <tbody>\n",
       "    <tr>\n",
       "      <th>0</th>\n",
       "      <td>25202</td>\n",
       "      <td>25</td>\n",
       "    </tr>\n",
       "    <tr>\n",
       "      <th>1</th>\n",
       "      <td>1302</td>\n",
       "      <td>26729</td>\n",
       "    </tr>\n",
       "  </tbody>\n",
       "</table>\n",
       "</div>"
      ],
      "text/plain": [
       "col_0       0      1\n",
       "Target              \n",
       "0       25202     25\n",
       "1        1302  26729"
      ]
     },
     "execution_count": 70,
     "metadata": {},
     "output_type": "execute_result"
    }
   ],
   "source": [
    "D_tree = DecisionTreeClassifier()\n",
    "D_tree.fit(X_train_R,y_train_R)\n",
    "\n",
    "pred_D_tree_R = D_tree.predict(X_test_R)\n",
    "pd.crosstab(y_test_R, pred_D_tree_R)"
   ]
  },
  {
   "cell_type": "code",
   "execution_count": 71,
   "metadata": {},
   "outputs": [
    {
     "name": "stdout",
     "output_type": "stream",
     "text": [
      "              precision    recall  f1-score   support\n",
      "\n",
      "           0       0.95      1.00      0.97     25227\n",
      "           1       1.00      0.95      0.98     28031\n",
      "\n",
      "    accuracy                           0.98     53258\n",
      "   macro avg       0.97      0.98      0.98     53258\n",
      "weighted avg       0.98      0.98      0.98     53258\n",
      "\n"
     ]
    }
   ],
   "source": [
    "print(classification_report(y_test_R,pred_D_tree_R))"
   ]
  },
  {
   "cell_type": "markdown",
   "metadata": {},
   "source": [
    "### KNN (random oversampling)"
   ]
  },
  {
   "cell_type": "code",
   "execution_count": 72,
   "metadata": {},
   "outputs": [
    {
     "data": {
      "text/html": [
       "<div>\n",
       "<style scoped>\n",
       "    .dataframe tbody tr th:only-of-type {\n",
       "        vertical-align: middle;\n",
       "    }\n",
       "\n",
       "    .dataframe tbody tr th {\n",
       "        vertical-align: top;\n",
       "    }\n",
       "\n",
       "    .dataframe thead th {\n",
       "        text-align: right;\n",
       "    }\n",
       "</style>\n",
       "<table border=\"1\" class=\"dataframe\">\n",
       "  <thead>\n",
       "    <tr style=\"text-align: right;\">\n",
       "      <th>col_0</th>\n",
       "      <th>0</th>\n",
       "      <th>1</th>\n",
       "    </tr>\n",
       "    <tr>\n",
       "      <th>Target</th>\n",
       "      <th></th>\n",
       "      <th></th>\n",
       "    </tr>\n",
       "  </thead>\n",
       "  <tbody>\n",
       "    <tr>\n",
       "      <th>0</th>\n",
       "      <td>24959</td>\n",
       "      <td>268</td>\n",
       "    </tr>\n",
       "    <tr>\n",
       "      <th>1</th>\n",
       "      <td>3946</td>\n",
       "      <td>24085</td>\n",
       "    </tr>\n",
       "  </tbody>\n",
       "</table>\n",
       "</div>"
      ],
      "text/plain": [
       "col_0       0      1\n",
       "Target              \n",
       "0       24959    268\n",
       "1        3946  24085"
      ]
     },
     "execution_count": 72,
     "metadata": {},
     "output_type": "execute_result"
    }
   ],
   "source": [
    "knn = KNeighborsClassifier(n_neighbors=3)\n",
    "knn.fit(X_train_R,y_train_R)\n",
    "\n",
    "pred_knn_R = knn.predict(X_test_R)\n",
    "pd.crosstab(y_test_R,pred_knn_R)"
   ]
  },
  {
   "cell_type": "code",
   "execution_count": 73,
   "metadata": {},
   "outputs": [
    {
     "name": "stdout",
     "output_type": "stream",
     "text": [
      "              precision    recall  f1-score   support\n",
      "\n",
      "           0       0.86      0.99      0.92     25227\n",
      "           1       0.99      0.86      0.92     28031\n",
      "\n",
      "    accuracy                           0.92     53258\n",
      "   macro avg       0.93      0.92      0.92     53258\n",
      "weighted avg       0.93      0.92      0.92     53258\n",
      "\n"
     ]
    }
   ],
   "source": [
    "print(classification_report(y_test_R,pred_knn_R))"
   ]
  },
  {
   "cell_type": "markdown",
   "metadata": {},
   "source": [
    "### Random Forest (random oversampling)"
   ]
  },
  {
   "cell_type": "code",
   "execution_count": 74,
   "metadata": {},
   "outputs": [
    {
     "data": {
      "text/html": [
       "<div>\n",
       "<style scoped>\n",
       "    .dataframe tbody tr th:only-of-type {\n",
       "        vertical-align: middle;\n",
       "    }\n",
       "\n",
       "    .dataframe tbody tr th {\n",
       "        vertical-align: top;\n",
       "    }\n",
       "\n",
       "    .dataframe thead th {\n",
       "        text-align: right;\n",
       "    }\n",
       "</style>\n",
       "<table border=\"1\" class=\"dataframe\">\n",
       "  <thead>\n",
       "    <tr style=\"text-align: right;\">\n",
       "      <th>col_0</th>\n",
       "      <th>0</th>\n",
       "      <th>1</th>\n",
       "    </tr>\n",
       "    <tr>\n",
       "      <th>Target</th>\n",
       "      <th></th>\n",
       "      <th></th>\n",
       "    </tr>\n",
       "  </thead>\n",
       "  <tbody>\n",
       "    <tr>\n",
       "      <th>0</th>\n",
       "      <td>25205</td>\n",
       "      <td>22</td>\n",
       "    </tr>\n",
       "    <tr>\n",
       "      <th>1</th>\n",
       "      <td>539</td>\n",
       "      <td>27492</td>\n",
       "    </tr>\n",
       "  </tbody>\n",
       "</table>\n",
       "</div>"
      ],
      "text/plain": [
       "col_0       0      1\n",
       "Target              \n",
       "0       25205     22\n",
       "1         539  27492"
      ]
     },
     "execution_count": 74,
     "metadata": {},
     "output_type": "execute_result"
    }
   ],
   "source": [
    "RFmodel = RandomForestClassifier( n_estimators=150)\n",
    "RFmodel.fit(X_train_R,y_train_R)\n",
    "\n",
    "pred_RF_R = RFmodel.predict(X_test_R)\n",
    "pd.crosstab(y_test_R,pred_RF_R)"
   ]
  },
  {
   "cell_type": "code",
   "execution_count": 75,
   "metadata": {},
   "outputs": [
    {
     "name": "stdout",
     "output_type": "stream",
     "text": [
      "              precision    recall  f1-score   support\n",
      "\n",
      "           0       0.98      1.00      0.99     25227\n",
      "           1       1.00      0.98      0.99     28031\n",
      "\n",
      "    accuracy                           0.99     53258\n",
      "   macro avg       0.99      0.99      0.99     53258\n",
      "weighted avg       0.99      0.99      0.99     53258\n",
      "\n"
     ]
    }
   ],
   "source": [
    "print(classification_report(y_test_R,pred_RF_R))"
   ]
  },
  {
   "cell_type": "markdown",
   "metadata": {},
   "source": [
    "### AdaBoost (random oversampling)"
   ]
  },
  {
   "cell_type": "code",
   "execution_count": 76,
   "metadata": {},
   "outputs": [
    {
     "data": {
      "text/html": [
       "<div>\n",
       "<style scoped>\n",
       "    .dataframe tbody tr th:only-of-type {\n",
       "        vertical-align: middle;\n",
       "    }\n",
       "\n",
       "    .dataframe tbody tr th {\n",
       "        vertical-align: top;\n",
       "    }\n",
       "\n",
       "    .dataframe thead th {\n",
       "        text-align: right;\n",
       "    }\n",
       "</style>\n",
       "<table border=\"1\" class=\"dataframe\">\n",
       "  <thead>\n",
       "    <tr style=\"text-align: right;\">\n",
       "      <th>col_0</th>\n",
       "      <th>0</th>\n",
       "      <th>1</th>\n",
       "    </tr>\n",
       "    <tr>\n",
       "      <th>Target</th>\n",
       "      <th></th>\n",
       "      <th></th>\n",
       "    </tr>\n",
       "  </thead>\n",
       "  <tbody>\n",
       "    <tr>\n",
       "      <th>0</th>\n",
       "      <td>20193</td>\n",
       "      <td>5034</td>\n",
       "    </tr>\n",
       "    <tr>\n",
       "      <th>1</th>\n",
       "      <td>3829</td>\n",
       "      <td>24202</td>\n",
       "    </tr>\n",
       "  </tbody>\n",
       "</table>\n",
       "</div>"
      ],
      "text/plain": [
       "col_0       0      1\n",
       "Target              \n",
       "0       20193   5034\n",
       "1        3829  24202"
      ]
     },
     "execution_count": 76,
     "metadata": {},
     "output_type": "execute_result"
    }
   ],
   "source": [
    "AdbB_model = AdaBoostClassifier()\n",
    "AdbB_model.fit(X_train_R,y_train_R)\n",
    "\n",
    "pred_AdbB_R = AdbB_model.predict(X_test_R)\n",
    "pd.crosstab(y_test_R,pred_AdbB_R)"
   ]
  },
  {
   "cell_type": "code",
   "execution_count": 77,
   "metadata": {},
   "outputs": [
    {
     "name": "stdout",
     "output_type": "stream",
     "text": [
      "              precision    recall  f1-score   support\n",
      "\n",
      "           0       0.84      0.80      0.82     25227\n",
      "           1       0.83      0.86      0.85     28031\n",
      "\n",
      "    accuracy                           0.83     53258\n",
      "   macro avg       0.83      0.83      0.83     53258\n",
      "weighted avg       0.83      0.83      0.83     53258\n",
      "\n"
     ]
    }
   ],
   "source": [
    "print(classification_report(y_test_R,pred_AdbB_R))"
   ]
  },
  {
   "cell_type": "markdown",
   "metadata": {},
   "source": [
    "# Scaled random oversampling data"
   ]
  },
  {
   "cell_type": "code",
   "execution_count": 78,
   "metadata": {},
   "outputs": [],
   "source": [
    "# Scaled\n",
    "scaler = StandardScaler()\n",
    "scale_random_x = scaler.fit_transform(random_x)"
   ]
  },
  {
   "cell_type": "markdown",
   "metadata": {},
   "source": [
    "### Train-test split  (scaled random oversampling data)"
   ]
  },
  {
   "cell_type": "code",
   "execution_count": 79,
   "metadata": {},
   "outputs": [],
   "source": [
    "#split\n",
    "X_train_R_sc, X_test_R_sc, y_train_R_sc, y_test_R_sc =\\\n",
    "train_test_split(scale_random_x, random_y, train_size = 0.8, stratify  = random_y,random_state = 6)"
   ]
  },
  {
   "cell_type": "markdown",
   "metadata": {},
   "source": [
    "### Logistic Regression (scaled random oversampling)"
   ]
  },
  {
   "cell_type": "code",
   "execution_count": 80,
   "metadata": {},
   "outputs": [
    {
     "data": {
      "text/html": [
       "<div>\n",
       "<style scoped>\n",
       "    .dataframe tbody tr th:only-of-type {\n",
       "        vertical-align: middle;\n",
       "    }\n",
       "\n",
       "    .dataframe tbody tr th {\n",
       "        vertical-align: top;\n",
       "    }\n",
       "\n",
       "    .dataframe thead th {\n",
       "        text-align: right;\n",
       "    }\n",
       "</style>\n",
       "<table border=\"1\" class=\"dataframe\">\n",
       "  <thead>\n",
       "    <tr style=\"text-align: right;\">\n",
       "      <th>col_0</th>\n",
       "      <th>0</th>\n",
       "      <th>1</th>\n",
       "    </tr>\n",
       "    <tr>\n",
       "      <th>Target</th>\n",
       "      <th></th>\n",
       "      <th></th>\n",
       "    </tr>\n",
       "  </thead>\n",
       "  <tbody>\n",
       "    <tr>\n",
       "      <th>0</th>\n",
       "      <td>8930</td>\n",
       "      <td>16297</td>\n",
       "    </tr>\n",
       "    <tr>\n",
       "      <th>1</th>\n",
       "      <td>3461</td>\n",
       "      <td>24570</td>\n",
       "    </tr>\n",
       "  </tbody>\n",
       "</table>\n",
       "</div>"
      ],
      "text/plain": [
       "col_0      0      1\n",
       "Target             \n",
       "0       8930  16297\n",
       "1       3461  24570"
      ]
     },
     "execution_count": 80,
     "metadata": {},
     "output_type": "execute_result"
    }
   ],
   "source": [
    "LModel = LogisticRegression()\n",
    "LModel.fit(X_train_R_sc,y_train_R_sc)\n",
    "\n",
    "pred_scale = LModel.predict(X_test_R_sc)\n",
    "pd.crosstab(y_test_R_sc,pred_scale)"
   ]
  },
  {
   "cell_type": "code",
   "execution_count": 81,
   "metadata": {},
   "outputs": [
    {
     "name": "stdout",
     "output_type": "stream",
     "text": [
      "              precision    recall  f1-score   support\n",
      "\n",
      "           0       0.72      0.35      0.47     25227\n",
      "           1       0.60      0.88      0.71     28031\n",
      "\n",
      "    accuracy                           0.63     53258\n",
      "   macro avg       0.66      0.62      0.59     53258\n",
      "weighted avg       0.66      0.63      0.60     53258\n",
      "\n"
     ]
    }
   ],
   "source": [
    "print(classification_report(y_test_R_sc,pred_scale))"
   ]
  },
  {
   "cell_type": "markdown",
   "metadata": {},
   "source": [
    "### Decision Trees (scaled random oversampling)"
   ]
  },
  {
   "cell_type": "code",
   "execution_count": 82,
   "metadata": {},
   "outputs": [
    {
     "data": {
      "text/html": [
       "<div>\n",
       "<style scoped>\n",
       "    .dataframe tbody tr th:only-of-type {\n",
       "        vertical-align: middle;\n",
       "    }\n",
       "\n",
       "    .dataframe tbody tr th {\n",
       "        vertical-align: top;\n",
       "    }\n",
       "\n",
       "    .dataframe thead th {\n",
       "        text-align: right;\n",
       "    }\n",
       "</style>\n",
       "<table border=\"1\" class=\"dataframe\">\n",
       "  <thead>\n",
       "    <tr style=\"text-align: right;\">\n",
       "      <th>col_0</th>\n",
       "      <th>0</th>\n",
       "      <th>1</th>\n",
       "    </tr>\n",
       "    <tr>\n",
       "      <th>Target</th>\n",
       "      <th></th>\n",
       "      <th></th>\n",
       "    </tr>\n",
       "  </thead>\n",
       "  <tbody>\n",
       "    <tr>\n",
       "      <th>0</th>\n",
       "      <td>25196</td>\n",
       "      <td>31</td>\n",
       "    </tr>\n",
       "    <tr>\n",
       "      <th>1</th>\n",
       "      <td>1302</td>\n",
       "      <td>26729</td>\n",
       "    </tr>\n",
       "  </tbody>\n",
       "</table>\n",
       "</div>"
      ],
      "text/plain": [
       "col_0       0      1\n",
       "Target              \n",
       "0       25196     31\n",
       "1        1302  26729"
      ]
     },
     "execution_count": 82,
     "metadata": {},
     "output_type": "execute_result"
    }
   ],
   "source": [
    "D_tree = DecisionTreeClassifier()\n",
    "D_tree.fit(X_train_R_sc,y_train_R_sc)\n",
    "\n",
    "pred_D_tree_R_sc = D_tree.predict(X_test_R_sc)\n",
    "pd.crosstab(y_test_R_sc,pred_D_tree_R_sc)"
   ]
  },
  {
   "cell_type": "code",
   "execution_count": 83,
   "metadata": {},
   "outputs": [
    {
     "name": "stdout",
     "output_type": "stream",
     "text": [
      "              precision    recall  f1-score   support\n",
      "\n",
      "           0       0.95      1.00      0.97     25227\n",
      "           1       1.00      0.95      0.98     28031\n",
      "\n",
      "    accuracy                           0.97     53258\n",
      "   macro avg       0.97      0.98      0.97     53258\n",
      "weighted avg       0.98      0.97      0.97     53258\n",
      "\n"
     ]
    }
   ],
   "source": [
    "print(classification_report(y_test_R_sc, pred_D_tree_R_sc))"
   ]
  },
  {
   "cell_type": "markdown",
   "metadata": {},
   "source": [
    "### KNN (scaled random oversampling)"
   ]
  },
  {
   "cell_type": "code",
   "execution_count": 84,
   "metadata": {},
   "outputs": [
    {
     "data": {
      "text/html": [
       "<div>\n",
       "<style scoped>\n",
       "    .dataframe tbody tr th:only-of-type {\n",
       "        vertical-align: middle;\n",
       "    }\n",
       "\n",
       "    .dataframe tbody tr th {\n",
       "        vertical-align: top;\n",
       "    }\n",
       "\n",
       "    .dataframe thead th {\n",
       "        text-align: right;\n",
       "    }\n",
       "</style>\n",
       "<table border=\"1\" class=\"dataframe\">\n",
       "  <thead>\n",
       "    <tr style=\"text-align: right;\">\n",
       "      <th>col_0</th>\n",
       "      <th>0</th>\n",
       "      <th>1</th>\n",
       "    </tr>\n",
       "    <tr>\n",
       "      <th>Target</th>\n",
       "      <th></th>\n",
       "      <th></th>\n",
       "    </tr>\n",
       "  </thead>\n",
       "  <tbody>\n",
       "    <tr>\n",
       "      <th>0</th>\n",
       "      <td>25014</td>\n",
       "      <td>213</td>\n",
       "    </tr>\n",
       "    <tr>\n",
       "      <th>1</th>\n",
       "      <td>3045</td>\n",
       "      <td>24986</td>\n",
       "    </tr>\n",
       "  </tbody>\n",
       "</table>\n",
       "</div>"
      ],
      "text/plain": [
       "col_0       0      1\n",
       "Target              \n",
       "0       25014    213\n",
       "1        3045  24986"
      ]
     },
     "execution_count": 84,
     "metadata": {},
     "output_type": "execute_result"
    }
   ],
   "source": [
    "knn = KNeighborsClassifier(n_neighbors=3)\n",
    "knn.fit(X_train_R_sc,y_train_R_sc)\n",
    "\n",
    "pred_knn_R_sc = knn.predict(X_test_R_sc)\n",
    "pd.crosstab(y_test_R_sc, pred_knn_R_sc)"
   ]
  },
  {
   "cell_type": "code",
   "execution_count": 85,
   "metadata": {},
   "outputs": [
    {
     "name": "stdout",
     "output_type": "stream",
     "text": [
      "              precision    recall  f1-score   support\n",
      "\n",
      "           0       0.89      0.99      0.94     25227\n",
      "           1       0.99      0.89      0.94     28031\n",
      "\n",
      "    accuracy                           0.94     53258\n",
      "   macro avg       0.94      0.94      0.94     53258\n",
      "weighted avg       0.94      0.94      0.94     53258\n",
      "\n"
     ]
    }
   ],
   "source": [
    "print(classification_report(y_test_R_sc, pred_knn_R_sc))"
   ]
  },
  {
   "cell_type": "markdown",
   "metadata": {},
   "source": [
    "### Random Forest (scaled random oversampling)"
   ]
  },
  {
   "cell_type": "code",
   "execution_count": 86,
   "metadata": {},
   "outputs": [
    {
     "data": {
      "text/html": [
       "<div>\n",
       "<style scoped>\n",
       "    .dataframe tbody tr th:only-of-type {\n",
       "        vertical-align: middle;\n",
       "    }\n",
       "\n",
       "    .dataframe tbody tr th {\n",
       "        vertical-align: top;\n",
       "    }\n",
       "\n",
       "    .dataframe thead th {\n",
       "        text-align: right;\n",
       "    }\n",
       "</style>\n",
       "<table border=\"1\" class=\"dataframe\">\n",
       "  <thead>\n",
       "    <tr style=\"text-align: right;\">\n",
       "      <th>col_0</th>\n",
       "      <th>0</th>\n",
       "      <th>1</th>\n",
       "    </tr>\n",
       "    <tr>\n",
       "      <th>Target</th>\n",
       "      <th></th>\n",
       "      <th></th>\n",
       "    </tr>\n",
       "  </thead>\n",
       "  <tbody>\n",
       "    <tr>\n",
       "      <th>0</th>\n",
       "      <td>25205</td>\n",
       "      <td>22</td>\n",
       "    </tr>\n",
       "    <tr>\n",
       "      <th>1</th>\n",
       "      <td>564</td>\n",
       "      <td>27467</td>\n",
       "    </tr>\n",
       "  </tbody>\n",
       "</table>\n",
       "</div>"
      ],
      "text/plain": [
       "col_0       0      1\n",
       "Target              \n",
       "0       25205     22\n",
       "1         564  27467"
      ]
     },
     "execution_count": 86,
     "metadata": {},
     "output_type": "execute_result"
    }
   ],
   "source": [
    "RFmodel = RandomForestClassifier( n_estimators=150,max_depth = 50)\n",
    "RFmodel.fit(X_train_R_sc,y_train_R_sc)\n",
    "\n",
    "pred_RF_R_sc = RFmodel.predict(X_test_R_sc)\n",
    "pd.crosstab(y_test_R_sc, pred_RF_R_sc)"
   ]
  },
  {
   "cell_type": "code",
   "execution_count": 87,
   "metadata": {},
   "outputs": [
    {
     "name": "stdout",
     "output_type": "stream",
     "text": [
      "              precision    recall  f1-score   support\n",
      "\n",
      "           0       0.98      1.00      0.99     25227\n",
      "           1       1.00      0.98      0.99     28031\n",
      "\n",
      "    accuracy                           0.99     53258\n",
      "   macro avg       0.99      0.99      0.99     53258\n",
      "weighted avg       0.99      0.99      0.99     53258\n",
      "\n"
     ]
    }
   ],
   "source": [
    "print(classification_report(y_test_R_sc, pred_RF_R_sc))"
   ]
  },
  {
   "cell_type": "markdown",
   "metadata": {},
   "source": [
    "### Features importances"
   ]
  },
  {
   "cell_type": "code",
   "execution_count": 88,
   "metadata": {},
   "outputs": [
    {
     "data": {
      "image/png": "[encoded data removed]",
      "text/plain": [
       "<Figure size 576x504 with 1 Axes>"
      ]
     },
     "metadata": {
      "needs_background": "light"
     },
     "output_type": "display_data"
    }
   ],
   "source": [
    "importance = RFmodel.feature_importances_\n",
    "columns = range(len(importance))\n",
    "\n",
    "plt.figure(figsize=(8,7))\n",
    "plt.barh(columns,importance)\n",
    "plt.yticks(columns,New_dataset3.columns[:-1],fontsize = 15)\n",
    "plt.show()"
   ]
  },
  {
   "cell_type": "markdown",
   "metadata": {},
   "source": [
    "### AdaBoost (scaled random oversampling)"
   ]
  },
  {
   "cell_type": "code",
   "execution_count": 89,
   "metadata": {},
   "outputs": [
    {
     "data": {
      "text/html": [
       "<div>\n",
       "<style scoped>\n",
       "    .dataframe tbody tr th:only-of-type {\n",
       "        vertical-align: middle;\n",
       "    }\n",
       "\n",
       "    .dataframe tbody tr th {\n",
       "        vertical-align: top;\n",
       "    }\n",
       "\n",
       "    .dataframe thead th {\n",
       "        text-align: right;\n",
       "    }\n",
       "</style>\n",
       "<table border=\"1\" class=\"dataframe\">\n",
       "  <thead>\n",
       "    <tr style=\"text-align: right;\">\n",
       "      <th>col_0</th>\n",
       "      <th>0</th>\n",
       "      <th>1</th>\n",
       "    </tr>\n",
       "    <tr>\n",
       "      <th>Target</th>\n",
       "      <th></th>\n",
       "      <th></th>\n",
       "    </tr>\n",
       "  </thead>\n",
       "  <tbody>\n",
       "    <tr>\n",
       "      <th>0</th>\n",
       "      <td>20193</td>\n",
       "      <td>5034</td>\n",
       "    </tr>\n",
       "    <tr>\n",
       "      <th>1</th>\n",
       "      <td>3832</td>\n",
       "      <td>24199</td>\n",
       "    </tr>\n",
       "  </tbody>\n",
       "</table>\n",
       "</div>"
      ],
      "text/plain": [
       "col_0       0      1\n",
       "Target              \n",
       "0       20193   5034\n",
       "1        3832  24199"
      ]
     },
     "execution_count": 89,
     "metadata": {},
     "output_type": "execute_result"
    }
   ],
   "source": [
    "AdbB_model = AdaBoostClassifier()\n",
    "AdbB_model.fit(X_train_R_sc,y_train_R_sc)\n",
    "\n",
    "pred_AdbB_R_sc = AdbB_model.predict(X_test_R_sc)\n",
    "pd.crosstab(y_test_R_sc, pred_AdbB_R_sc)"
   ]
  },
  {
   "cell_type": "code",
   "execution_count": 90,
   "metadata": {},
   "outputs": [
    {
     "name": "stdout",
     "output_type": "stream",
     "text": [
      "              precision    recall  f1-score   support\n",
      "\n",
      "           0       0.84      0.80      0.82     25227\n",
      "           1       0.83      0.86      0.85     28031\n",
      "\n",
      "    accuracy                           0.83     53258\n",
      "   macro avg       0.83      0.83      0.83     53258\n",
      "weighted avg       0.83      0.83      0.83     53258\n",
      "\n"
     ]
    }
   ],
   "source": [
    "print(classification_report(y_test_R_sc, pred_AdbB_R_sc))"
   ]
  },
  {
   "cell_type": "markdown",
   "metadata": {},
   "source": [
    "**We chose Random Forest to be our best model since it performance so far has be splendid.**\n",
    "\n",
    "**We then perform Cross validation to get the accuracy of the model on average.** "
   ]
  },
  {
   "cell_type": "markdown",
   "metadata": {},
   "source": [
    "### Cross Validations for Random Forest"
   ]
  },
  {
   "cell_type": "code",
   "execution_count": 95,
   "metadata": {},
   "outputs": [
    {
     "name": "stdout",
     "output_type": "stream",
     "text": [
      "[0.9121724  0.91667771 0.89508967]\n",
      "\n",
      " Average score is : 0.91%\n"
     ]
    }
   ],
   "source": [
    "### Cross Validations for Random Forest\n",
    "\n",
    "# Model Random Forest\n",
    "RFmodel = RandomForestClassifier( n_estimators=150)\n",
    "\n",
    "# Cross Validation Score (cv = 10)\n",
    "scores = cross_val_score(estimator = RFmodel,X = X2, y = y2, cv = 3, n_jobs=-1)\n",
    "print(scores)\n",
    "\n",
    "# Average score\n",
    "mean_score = round(np.mean(scores),2)\n",
    "print('\\n Average score is : {}%'.format(mean_score))"
   ]
  },
  {
   "cell_type": "code",
   "execution_count": null,
   "metadata": {},
   "outputs": [],
   "source": []
  },
  {
   "cell_type": "code",
   "execution_count": null,
   "metadata": {},
   "outputs": [],
   "source": []
  },
  {
   "cell_type": "code",
   "execution_count": null,
   "metadata": {},
   "outputs": [],
   "source": []
  }
 ],
 "metadata": {
  "kernelspec": {
   "display_name": "Python 3",
   "language": "python",
   "name": "python3"
  },
  "language_info": {
   "codemirror_mode": {
    "name": "ipython",
    "version": 3
   },
   "file_extension": ".py",
   "mimetype": "text/x-python",
   "name": "python",
   "nbconvert_exporter": "python",
   "pygments_lexer": "ipython3",
   "version": "3.7.6"
  }
 },
 "nbformat": 4,
 "nbformat_minor": 4
}
